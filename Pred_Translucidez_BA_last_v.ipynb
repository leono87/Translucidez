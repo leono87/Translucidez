{
 "cells": [
  {
   "cell_type": "markdown",
   "metadata": {},
   "source": [
    "## Importando paquetes"
   ]
  },
  {
   "cell_type": "code",
   "execution_count": 9,
   "metadata": {},
   "outputs": [],
   "source": [
    "from datetime import date\n",
    "from datetime import datetime, timedelta\n",
    "import math\n",
    "import pandas as pd\n",
    "import numpy as np\n",
    "import statistics\n",
    "from scipy import stats\n",
    "from scipy import signal\n",
    "import matplotlib.pyplot as plt\n",
    "import plotly.graph_objects as go\n",
    "\n",
    "import warnings\n",
    "from statsmodels.tools.sm_exceptions import ConvergenceWarning\n",
    "warnings.simplefilter('ignore', ConvergenceWarning)\n",
    "warnings.filterwarnings('ignore')\n",
    "from statsmodels.tsa.api import ExponentialSmoothing\n",
    "\n",
    "from matplotlib.dates import DateFormatter\n",
    "import matplotlib.dates as mdates\n",
    "#from statsmodels.tsa.api import ExponentialSmoothing\n",
    "import Time_Series as HW_calibrado\n",
    "from adjustText import adjust_text\n",
    "import seaborn as sns\n",
    "\n",
    "import mod_prediccion as rd_gis\n",
    "\n",
    "import periodo_critco as ped\n",
    "\n",
    "import Time_Series as ts_mod\n",
    "\n",
    "\n",
    "\n",
    "from sklearn.metrics import mean_absolute_error, mean_squared_error\n",
    "from sklearn.metrics import r2_score\n",
    "from sklearn.model_selection import train_test_split\n",
    "from sklearn.linear_model import LinearRegression\n",
    "from sklearn.ensemble import RandomForestRegressor\n",
    "from sklearn.svm import SVR\n",
    "from sklearn.ensemble import GradientBoostingRegressor\n",
    "from sklearn.neural_network import MLPRegressor\n",
    "from sklearn.linear_model import BayesianRidge\n"
   ]
  },
  {
   "cell_type": "code",
   "execution_count": 10,
   "metadata": {},
   "outputs": [],
   "source": [
    "def output_df_to_pdf(pdf, df):\n",
    "    # A cell is a rectangular area, possibly framed, which contains some text\n",
    "    # Set the width and height of cell\n",
    "    table_cell_width = 25\n",
    "    table_cell_height = 6\n",
    "    # Select a font as Arial, bold, 8\n",
    "    pdf.set_font('Arial', 'B', 8)\n",
    "    \n",
    "    # Loop over to print column names\n",
    "    cols = df.columns\n",
    "    for col in cols:\n",
    "        pdf.cell(table_cell_width, table_cell_height, col, align='C', border=1)\n",
    "    # Line break\n",
    "    pdf.ln(table_cell_height)\n",
    "    # Select a font as Arial, regular, 10\n",
    "    pdf.set_font('Arial', '', 10)\n",
    "    # Loop over to print each data in the table\n",
    "    for row in df.itertuples():\n",
    "        for col in cols:\n",
    "            value = str(getattr(row, col))\n",
    "            pdf.cell(table_cell_width, table_cell_height, value, align='C', border=1)\n",
    "        pdf.ln(table_cell_height)"
   ]
  },
  {
   "cell_type": "markdown",
   "metadata": {},
   "source": [
    "## Datos de Clima"
   ]
  },
  {
   "cell_type": "code",
   "execution_count": 11,
   "metadata": {},
   "outputs": [],
   "source": [
    "df_clima = pd.read_excel(\"C:/Users/Administrador/Documents/Analisis_Datos/Translucidez/CLIMA.xlsx\")"
   ]
  },
  {
   "cell_type": "code",
   "execution_count": 12,
   "metadata": {},
   "outputs": [],
   "source": [
    "df_clima[\"mes\"] = df_clima[\"mes\"].astype(\"str\")\n",
    "df_clima[\"año\"] = df_clima[\"año\"].astype(\"str\")\n",
    "df_clima[\"dia\"] = df_clima[\"dia\"].astype(\"str\")\n",
    "df_clima_BA= df_clima.loc[df_clima[\"Desc Estacion\"] == 'ESTACIÓN 133']"
   ]
  },
  {
   "cell_type": "code",
   "execution_count": 13,
   "metadata": {},
   "outputs": [],
   "source": [
    "df_clima_BA [\"Fecha_R\"] = df_clima_BA[\"mes\"] + \"/\" + df_clima_BA[\"dia\"] + \"/\" +(df_clima_BA[\"año\"])\n",
    "df_clima_BA[\"Fecha_R\"] = pd.DatetimeIndex(df_clima_BA[\"Fecha_R\"])\n",
    "df_clima_BA = df_clima_BA.sort_values([\"Fecha_R\"])\n",
    "df_clima_BA [\"GDD\"] = ((df_clima_BA [\"Temp_Max\"] +  df_clima_BA [\"Temp_Min\"])/2) - 12"
   ]
  },
  {
   "cell_type": "code",
   "execution_count": 14,
   "metadata": {},
   "outputs": [
    {
     "name": "stdout",
     "output_type": "stream",
     "text": [
      "<class 'pandas.core.frame.DataFrame'>\n",
      "Int64Index: 3731 entries, 31562 to 53097\n",
      "Data columns (total 15 columns):\n",
      " #   Column         Non-Null Count  Dtype         \n",
      "---  ------         --------------  -----         \n",
      " 0   Desc Estacion  3731 non-null   object        \n",
      " 1   Semana         3731 non-null   int64         \n",
      " 2   Fecha          3731 non-null   object        \n",
      " 3   mes            3731 non-null   object        \n",
      " 4   dia            3731 non-null   object        \n",
      " 5   año            3731 non-null   object        \n",
      " 6   Sum_Lluvia     3731 non-null   float64       \n",
      " 7   Prom_temp      3731 non-null   float64       \n",
      " 8   Temp_Min       3731 non-null   float64       \n",
      " 9   Temp_Max       3731 non-null   float64       \n",
      " 10  Prom_HR        3731 non-null   float64       \n",
      " 11  Rad_MJ         3731 non-null   float64       \n",
      " 12  Rad_Wh         3731 non-null   float64       \n",
      " 13  Fecha_R        3731 non-null   datetime64[ns]\n",
      " 14  GDD            3731 non-null   float64       \n",
      "dtypes: datetime64[ns](1), float64(8), int64(1), object(5)\n",
      "memory usage: 466.4+ KB\n"
     ]
    }
   ],
   "source": [
    "df_clima_BA.info()"
   ]
  },
  {
   "cell_type": "code",
   "execution_count": 15,
   "metadata": {},
   "outputs": [
    {
     "name": "stdout",
     "output_type": "stream",
     "text": [
      "Fecha Inicial: 2013-01-01 \n",
      "Fecha Final: 2023-04-16\n"
     ]
    }
   ],
   "source": [
    "print(\"Fecha Inicial:\" , df_clima_BA.Fecha_R.min().date(), \n",
    "      \"\\nFecha Final:\" , df_clima_BA.Fecha_R.max().date(),)"
   ]
  },
  {
   "cell_type": "markdown",
   "metadata": {},
   "source": [
    "## Translucidez "
   ]
  },
  {
   "cell_type": "code",
   "execution_count": 16,
   "metadata": {},
   "outputs": [
    {
     "name": "stdout",
     "output_type": "stream",
     "text": [
      "<class 'pandas.core.frame.DataFrame'>\n",
      "RangeIndex: 4798 entries, 0 to 4797\n",
      "Data columns (total 10 columns):\n",
      " #   Column           Non-Null Count  Dtype         \n",
      "---  ------           --------------  -----         \n",
      " 0   Fecha            4798 non-null   datetime64[ns]\n",
      " 1   Temp_min         4473 non-null   float64       \n",
      " 2   Temp_max         4473 non-null   float64       \n",
      " 3   GDD              4473 non-null   float64       \n",
      " 4   Precipitación    4473 non-null   float64       \n",
      " 5   Brix-BA          4364 non-null   float64       \n",
      " 6   ACit-BA          2735 non-null   float64       \n",
      " 7   AAsc-BA          2730 non-null   float64       \n",
      " 8   Translucidez-BA  4765 non-null   float64       \n",
      " 9   Semana           96 non-null     float64       \n",
      "dtypes: datetime64[ns](1), float64(9)\n",
      "memory usage: 375.0 KB\n"
     ]
    }
   ],
   "source": [
    "#Importando base de translucidez BA\n",
    "df_BA = pd.read_excel(\"C:/Users/Administrador/Documents/GitHub/Translucidez/Rechazo_Transludidez_BA.xlsx\",sheet_name=\"BAires\")\n",
    "df_BA.info()"
   ]
  },
  {
   "cell_type": "code",
   "execution_count": 17,
   "metadata": {},
   "outputs": [],
   "source": [
    "ts = ts_mod.fechas_faltantes(df = df_BA, campo_fecha=\"Fecha\", campo_para_ts= \"Translucidez-BA\")"
   ]
  },
  {
   "cell_type": "code",
   "execution_count": 18,
   "metadata": {},
   "outputs": [
    {
     "name": "stdout",
     "output_type": "stream",
     "text": [
      "faltan:  67  fechas\n",
      "Total de ts:  4864\n",
      "Inicia:  2010-01-02\n",
      "Fin:  2023-04-27\n"
     ]
    }
   ],
   "source": [
    "ts = ts.crear_ts()"
   ]
  },
  {
   "cell_type": "code",
   "execution_count": 19,
   "metadata": {},
   "outputs": [],
   "source": [
    "#creando ts de promedio semanal de transluciez \n",
    "\n",
    "ts_trans = ts.resample(\"W\").mean()"
   ]
  },
  {
   "cell_type": "code",
   "execution_count": 20,
   "metadata": {},
   "outputs": [],
   "source": [
    "#recortando ts solo del <2016\n",
    "\n",
    "ts_trans =ts_trans.loc[ ts_trans .index >= \"01/01/2019\"]"
   ]
  },
  {
   "cell_type": "code",
   "execution_count": 21,
   "metadata": {},
   "outputs": [],
   "source": [
    "#Suavizado de serie\n",
    "ts_trans_suavizado =ts_trans .rolling(3, min_periods = 1, center = True).mean()"
   ]
  },
  {
   "cell_type": "code",
   "execution_count": 22,
   "metadata": {},
   "outputs": [
    {
     "name": "stdout",
     "output_type": "stream",
     "text": [
      "Ultima semana: 17\n",
      "Ultimo día:  2023-04-30\n"
     ]
    }
   ],
   "source": [
    "# ultima fecha de la ts de translucidez\n",
    "print (\"Ultima semana:\", ts_trans.index.max().isocalendar().week)\n",
    "print (\"Ultimo día: \", ts_trans.index.max().date())"
   ]
  },
  {
   "cell_type": "markdown",
   "metadata": {},
   "source": [
    "## Creando  dataframe"
   ]
  },
  {
   "cell_type": "markdown",
   "metadata": {},
   "source": [
    "### Temperature"
   ]
  },
  {
   "cell_type": "code",
   "execution_count": 23,
   "metadata": {},
   "outputs": [],
   "source": [
    "ts_clima = ts_mod.fechas_faltantes(df = df_clima_BA, campo_fecha=\"Fecha_R\", campo_para_ts= \"Prom_temp\")"
   ]
  },
  {
   "cell_type": "code",
   "execution_count": 24,
   "metadata": {},
   "outputs": [
    {
     "name": "stdout",
     "output_type": "stream",
     "text": [
      "faltan:  27  fechas\n",
      "Total de ts:  3758\n",
      "Inicia:  2013-01-01\n",
      "Fin:  2023-04-16\n"
     ]
    }
   ],
   "source": [
    "ts_temp = ts_clima.crear_ts()"
   ]
  },
  {
   "cell_type": "code",
   "execution_count": 25,
   "metadata": {},
   "outputs": [],
   "source": [
    "#Creación de serie semanal \n",
    "ts_temp = ts_temp.resample(\"W\").mean()"
   ]
  },
  {
   "cell_type": "code",
   "execution_count": 26,
   "metadata": {},
   "outputs": [
    {
     "data": {
      "text/plain": [
       "fechas\n",
       "2019-01-06    23.668631\n",
       "2019-01-13    22.649524\n",
       "2019-01-20    22.518690\n",
       "2019-01-27    23.964762\n",
       "2019-02-03    23.994286\n",
       "                ...    \n",
       "2023-03-19    23.580952\n",
       "2023-03-26    25.382917\n",
       "2023-04-02    25.716964\n",
       "2023-04-09    25.103810\n",
       "2023-04-16    24.724762\n",
       "Freq: W-SUN, Name: Prom_temp, Length: 224, dtype: float64"
      ]
     },
     "execution_count": 26,
     "metadata": {},
     "output_type": "execute_result"
    }
   ],
   "source": [
    "#Recortando serie semanal \n",
    "ts_temp  = ts_temp .loc [ts_temp .index <= ts_trans. index.max()]\n",
    "ts_temp  = ts_temp .loc [ts_temp .index >= ts_trans.index.min()]\n",
    "ts_temp "
   ]
  },
  {
   "cell_type": "code",
   "execution_count": 27,
   "metadata": {},
   "outputs": [],
   "source": [
    "# Creando objeto de clase crear df para hacer un df que proyecte el maximo de las fechas que se puede \n",
    "# según el desfase y periodo que tengan la mayor correlacion \n",
    "\n",
    "ts_df = ts_mod.creardf(ts_temp, ts_trans_suavizado ,  \"Temp_pro_ac\")"
   ]
  },
  {
   "cell_type": "code",
   "execution_count": 28,
   "metadata": {},
   "outputs": [],
   "source": [
    "#Renombrando la ts \n",
    "serie_ori = ts_df.ts\n",
    "serie_ori = serie_ori.rename(\"variable_clima\")"
   ]
  },
  {
   "cell_type": "code",
   "execution_count": 29,
   "metadata": {},
   "outputs": [
    {
     "name": "stdout",
     "output_type": "stream",
     "text": [
      "Mejor desfase:  13 \n",
      "Mejor periodo:  21\n",
      "Mejor correlación:  0.6933058931051519\n"
     ]
    }
   ],
   "source": [
    "#crenado el df\n",
    "df_temp= ts_df.crear_df()"
   ]
  },
  {
   "cell_type": "code",
   "execution_count": 30,
   "metadata": {},
   "outputs": [
    {
     "data": {
      "text/html": [
       "<div>\n",
       "<style scoped>\n",
       "    .dataframe tbody tr th:only-of-type {\n",
       "        vertical-align: middle;\n",
       "    }\n",
       "\n",
       "    .dataframe tbody tr th {\n",
       "        vertical-align: top;\n",
       "    }\n",
       "\n",
       "    .dataframe thead th {\n",
       "        text-align: right;\n",
       "    }\n",
       "</style>\n",
       "<table border=\"1\" class=\"dataframe\">\n",
       "  <thead>\n",
       "    <tr style=\"text-align: right;\">\n",
       "      <th></th>\n",
       "      <th>Temp_pro_ac</th>\n",
       "      <th>Translucidez-BA</th>\n",
       "      <th>variable_clima</th>\n",
       "      <th>fechas</th>\n",
       "    </tr>\n",
       "    <tr>\n",
       "      <th>fechas</th>\n",
       "      <th></th>\n",
       "      <th></th>\n",
       "      <th></th>\n",
       "      <th></th>\n",
       "    </tr>\n",
       "  </thead>\n",
       "  <tbody>\n",
       "    <tr>\n",
       "      <th>2019-08-25</th>\n",
       "      <td>507.737440</td>\n",
       "      <td>7.908883</td>\n",
       "      <td>23.475952</td>\n",
       "      <td>2019-08-25</td>\n",
       "    </tr>\n",
       "    <tr>\n",
       "      <th>2019-09-01</th>\n",
       "      <td>507.935476</td>\n",
       "      <td>4.783405</td>\n",
       "      <td>23.759643</td>\n",
       "      <td>2019-09-01</td>\n",
       "    </tr>\n",
       "    <tr>\n",
       "      <th>2019-09-08</th>\n",
       "      <td>509.227560</td>\n",
       "      <td>6.121669</td>\n",
       "      <td>23.177440</td>\n",
       "      <td>2019-09-08</td>\n",
       "    </tr>\n",
       "    <tr>\n",
       "      <th>2019-09-15</th>\n",
       "      <td>510.403571</td>\n",
       "      <td>8.693521</td>\n",
       "      <td>23.943929</td>\n",
       "      <td>2019-09-15</td>\n",
       "    </tr>\n",
       "    <tr>\n",
       "      <th>2019-09-22</th>\n",
       "      <td>511.216071</td>\n",
       "      <td>10.884106</td>\n",
       "      <td>22.790952</td>\n",
       "      <td>2019-09-22</td>\n",
       "    </tr>\n",
       "  </tbody>\n",
       "</table>\n",
       "</div>"
      ],
      "text/plain": [
       "            Temp_pro_ac  Translucidez-BA  variable_clima     fechas\n",
       "fechas                                                             \n",
       "2019-08-25   507.737440         7.908883       23.475952 2019-08-25\n",
       "2019-09-01   507.935476         4.783405       23.759643 2019-09-01\n",
       "2019-09-08   509.227560         6.121669       23.177440 2019-09-08\n",
       "2019-09-15   510.403571         8.693521       23.943929 2019-09-15\n",
       "2019-09-22   511.216071        10.884106       22.790952 2019-09-22"
      ]
     },
     "execution_count": 30,
     "metadata": {},
     "output_type": "execute_result"
    }
   ],
   "source": [
    "df_temp.head()"
   ]
  },
  {
   "attachments": {},
   "cell_type": "markdown",
   "metadata": {},
   "source": [
    "### Radiacion"
   ]
  },
  {
   "cell_type": "code",
   "execution_count": 31,
   "metadata": {},
   "outputs": [],
   "source": [
    "#MOdificando propiedad de variable en clase\n",
    "ts_clima.campo_para_ts = \"Rad_MJ\""
   ]
  },
  {
   "cell_type": "code",
   "execution_count": 32,
   "metadata": {},
   "outputs": [
    {
     "name": "stdout",
     "output_type": "stream",
     "text": [
      "faltan:  27  fechas\n",
      "Total de ts:  3758\n",
      "Inicia:  2013-01-01\n",
      "Fin:  2023-04-16\n"
     ]
    }
   ],
   "source": [
    "#creando ts con la variable \n",
    "ts_rad = ts_clima.crear_ts()"
   ]
  },
  {
   "cell_type": "code",
   "execution_count": 33,
   "metadata": {},
   "outputs": [],
   "source": [
    "#Creación de serie semanal \n",
    "ts_rad  = ts_rad .resample(\"W\").mean()"
   ]
  },
  {
   "cell_type": "code",
   "execution_count": 34,
   "metadata": {},
   "outputs": [
    {
     "data": {
      "text/plain": [
       "fechas\n",
       "2019-01-06    20.453744\n",
       "2019-01-13    19.656080\n",
       "2019-01-20    22.146284\n",
       "2019-01-27    21.532334\n",
       "2019-02-03    20.242843\n",
       "                ...    \n",
       "2023-03-19    17.149899\n",
       "2023-03-26    23.681570\n",
       "2023-04-02    24.113051\n",
       "2023-04-09    20.656934\n",
       "2023-04-16    22.229724\n",
       "Freq: W-SUN, Name: Rad_MJ, Length: 224, dtype: float64"
      ]
     },
     "execution_count": 34,
     "metadata": {},
     "output_type": "execute_result"
    }
   ],
   "source": [
    "#Recortando serie semanal \n",
    "ts_rad  = ts_rad .loc [ts_rad .index <= ts_trans. index.max()]\n",
    "ts_rad  = ts_rad .loc [ts_rad .index >= ts_trans.index.min()]\n",
    "ts_rad "
   ]
  },
  {
   "cell_type": "code",
   "execution_count": 35,
   "metadata": {},
   "outputs": [],
   "source": [
    "#creando uno objeto \n",
    "ts_rad_ob = ts_mod.creardf(ts_rad, ts_trans,  \"RAD_pro_ac\")"
   ]
  },
  {
   "cell_type": "code",
   "execution_count": 36,
   "metadata": {},
   "outputs": [
    {
     "name": "stdout",
     "output_type": "stream",
     "text": [
      "Mejor desfase:  16 \n",
      "Mejor periodo:  22\n",
      "Mejor correlación:  0.6200486348169658\n"
     ]
    }
   ],
   "source": [
    "df_rad=ts_rad_ob.crear_df()"
   ]
  },
  {
   "cell_type": "code",
   "execution_count": 37,
   "metadata": {},
   "outputs": [
    {
     "data": {
      "text/html": [
       "<div>\n",
       "<style scoped>\n",
       "    .dataframe tbody tr th:only-of-type {\n",
       "        vertical-align: middle;\n",
       "    }\n",
       "\n",
       "    .dataframe tbody tr th {\n",
       "        vertical-align: top;\n",
       "    }\n",
       "\n",
       "    .dataframe thead th {\n",
       "        text-align: right;\n",
       "    }\n",
       "</style>\n",
       "<table border=\"1\" class=\"dataframe\">\n",
       "  <thead>\n",
       "    <tr style=\"text-align: right;\">\n",
       "      <th></th>\n",
       "      <th>RAD_pro_ac</th>\n",
       "      <th>Translucidez-BA</th>\n",
       "      <th>variable_clima</th>\n",
       "    </tr>\n",
       "  </thead>\n",
       "  <tbody>\n",
       "    <tr>\n",
       "      <th>RAD_pro_ac</th>\n",
       "      <td>1.000000</td>\n",
       "      <td>0.620049</td>\n",
       "      <td>-0.575325</td>\n",
       "    </tr>\n",
       "    <tr>\n",
       "      <th>Translucidez-BA</th>\n",
       "      <td>0.620049</td>\n",
       "      <td>1.000000</td>\n",
       "      <td>-0.470293</td>\n",
       "    </tr>\n",
       "    <tr>\n",
       "      <th>variable_clima</th>\n",
       "      <td>-0.575325</td>\n",
       "      <td>-0.470293</td>\n",
       "      <td>1.000000</td>\n",
       "    </tr>\n",
       "  </tbody>\n",
       "</table>\n",
       "</div>"
      ],
      "text/plain": [
       "                 RAD_pro_ac  Translucidez-BA  variable_clima\n",
       "RAD_pro_ac         1.000000         0.620049       -0.575325\n",
       "Translucidez-BA    0.620049         1.000000       -0.470293\n",
       "variable_clima    -0.575325        -0.470293        1.000000"
      ]
     },
     "execution_count": 37,
     "metadata": {},
     "output_type": "execute_result"
    }
   ],
   "source": [
    "df_rad.corr()"
   ]
  },
  {
   "cell_type": "code",
   "execution_count": 38,
   "metadata": {},
   "outputs": [
    {
     "data": {
      "text/html": [
       "<div>\n",
       "<style scoped>\n",
       "    .dataframe tbody tr th:only-of-type {\n",
       "        vertical-align: middle;\n",
       "    }\n",
       "\n",
       "    .dataframe tbody tr th {\n",
       "        vertical-align: top;\n",
       "    }\n",
       "\n",
       "    .dataframe thead th {\n",
       "        text-align: right;\n",
       "    }\n",
       "</style>\n",
       "<table border=\"1\" class=\"dataframe\">\n",
       "  <thead>\n",
       "    <tr style=\"text-align: right;\">\n",
       "      <th></th>\n",
       "      <th>Temp_pro_ac</th>\n",
       "      <th>Translucidez-BA</th>\n",
       "      <th>variable_clima</th>\n",
       "      <th>fechas</th>\n",
       "      <th>RAD_pro_ac</th>\n",
       "    </tr>\n",
       "    <tr>\n",
       "      <th>fechas</th>\n",
       "      <th></th>\n",
       "      <th></th>\n",
       "      <th></th>\n",
       "      <th></th>\n",
       "      <th></th>\n",
       "    </tr>\n",
       "  </thead>\n",
       "  <tbody>\n",
       "    <tr>\n",
       "      <th>2019-09-22</th>\n",
       "      <td>511.216071</td>\n",
       "      <td>10.884106</td>\n",
       "      <td>22.790952</td>\n",
       "      <td>2019-09-22</td>\n",
       "      <td>443.737271</td>\n",
       "    </tr>\n",
       "    <tr>\n",
       "      <th>2019-09-29</th>\n",
       "      <td>511.103631</td>\n",
       "      <td>10.961157</td>\n",
       "      <td>23.099123</td>\n",
       "      <td>2019-09-29</td>\n",
       "      <td>439.179603</td>\n",
       "    </tr>\n",
       "    <tr>\n",
       "      <th>2019-10-06</th>\n",
       "      <td>511.555238</td>\n",
       "      <td>8.327349</td>\n",
       "      <td>22.706905</td>\n",
       "      <td>2019-10-06</td>\n",
       "      <td>437.342543</td>\n",
       "    </tr>\n",
       "    <tr>\n",
       "      <th>2019-10-13</th>\n",
       "      <td>510.789643</td>\n",
       "      <td>7.130161</td>\n",
       "      <td>22.569345</td>\n",
       "      <td>2019-10-13</td>\n",
       "      <td>431.059037</td>\n",
       "    </tr>\n",
       "    <tr>\n",
       "      <th>2019-10-20</th>\n",
       "      <td>510.919643</td>\n",
       "      <td>7.609008</td>\n",
       "      <td>22.502738</td>\n",
       "      <td>2019-10-20</td>\n",
       "      <td>427.290341</td>\n",
       "    </tr>\n",
       "    <tr>\n",
       "      <th>...</th>\n",
       "      <td>...</td>\n",
       "      <td>...</td>\n",
       "      <td>...</td>\n",
       "      <td>...</td>\n",
       "      <td>...</td>\n",
       "    </tr>\n",
       "    <tr>\n",
       "      <th>2023-06-18</th>\n",
       "      <td>508.460752</td>\n",
       "      <td>NaN</td>\n",
       "      <td>NaN</td>\n",
       "      <td>2023-06-18</td>\n",
       "      <td>383.568444</td>\n",
       "    </tr>\n",
       "    <tr>\n",
       "      <th>2023-06-25</th>\n",
       "      <td>509.656347</td>\n",
       "      <td>NaN</td>\n",
       "      <td>NaN</td>\n",
       "      <td>2023-06-25</td>\n",
       "      <td>388.981304</td>\n",
       "    </tr>\n",
       "    <tr>\n",
       "      <th>2023-07-02</th>\n",
       "      <td>511.712776</td>\n",
       "      <td>NaN</td>\n",
       "      <td>NaN</td>\n",
       "      <td>2023-07-02</td>\n",
       "      <td>393.352830</td>\n",
       "    </tr>\n",
       "    <tr>\n",
       "      <th>2023-07-09</th>\n",
       "      <td>513.469919</td>\n",
       "      <td>NaN</td>\n",
       "      <td>NaN</td>\n",
       "      <td>2023-07-09</td>\n",
       "      <td>394.761207</td>\n",
       "    </tr>\n",
       "    <tr>\n",
       "      <th>2023-07-16</th>\n",
       "      <td>511.734335</td>\n",
       "      <td>NaN</td>\n",
       "      <td>NaN</td>\n",
       "      <td>2023-07-16</td>\n",
       "      <td>404.906773</td>\n",
       "    </tr>\n",
       "  </tbody>\n",
       "</table>\n",
       "<p>200 rows × 5 columns</p>\n",
       "</div>"
      ],
      "text/plain": [
       "            Temp_pro_ac  Translucidez-BA  variable_clima     fechas  \\\n",
       "fechas                                                                \n",
       "2019-09-22   511.216071        10.884106       22.790952 2019-09-22   \n",
       "2019-09-29   511.103631        10.961157       23.099123 2019-09-29   \n",
       "2019-10-06   511.555238         8.327349       22.706905 2019-10-06   \n",
       "2019-10-13   510.789643         7.130161       22.569345 2019-10-13   \n",
       "2019-10-20   510.919643         7.609008       22.502738 2019-10-20   \n",
       "...                 ...              ...             ...        ...   \n",
       "2023-06-18   508.460752              NaN             NaN 2023-06-18   \n",
       "2023-06-25   509.656347              NaN             NaN 2023-06-25   \n",
       "2023-07-02   511.712776              NaN             NaN 2023-07-02   \n",
       "2023-07-09   513.469919              NaN             NaN 2023-07-09   \n",
       "2023-07-16   511.734335              NaN             NaN 2023-07-16   \n",
       "\n",
       "            RAD_pro_ac  \n",
       "fechas                  \n",
       "2019-09-22  443.737271  \n",
       "2019-09-29  439.179603  \n",
       "2019-10-06  437.342543  \n",
       "2019-10-13  431.059037  \n",
       "2019-10-20  427.290341  \n",
       "...                ...  \n",
       "2023-06-18  383.568444  \n",
       "2023-06-25  388.981304  \n",
       "2023-07-02  393.352830  \n",
       "2023-07-09  394.761207  \n",
       "2023-07-16  404.906773  \n",
       "\n",
       "[200 rows x 5 columns]"
      ]
     },
     "execution_count": 38,
     "metadata": {},
     "output_type": "execute_result"
    }
   ],
   "source": [
    "#agredando resultado a df\n",
    "df = df_temp.merge(df_rad[[\"RAD_pro_ac\"]], left_index=True, right_index=True)\n",
    "df"
   ]
  },
  {
   "attachments": {},
   "cell_type": "markdown",
   "metadata": {},
   "source": [
    "### Precipitacion"
   ]
  },
  {
   "cell_type": "code",
   "execution_count": 39,
   "metadata": {},
   "outputs": [],
   "source": [
    "ts_clima.campo_para_ts = \"Sum_Lluvia\""
   ]
  },
  {
   "cell_type": "code",
   "execution_count": 40,
   "metadata": {},
   "outputs": [
    {
     "name": "stdout",
     "output_type": "stream",
     "text": [
      "faltan:  27  fechas\n",
      "Total de ts:  3758\n",
      "Inicia:  2013-01-01\n",
      "Fin:  2023-04-16\n"
     ]
    }
   ],
   "source": [
    "ts_prec = ts_clima.crear_ts()"
   ]
  },
  {
   "cell_type": "code",
   "execution_count": 41,
   "metadata": {},
   "outputs": [],
   "source": [
    "#Creación de serie semanal \n",
    "ts_prec = ts_prec.resample(\"W\").mean()"
   ]
  },
  {
   "cell_type": "code",
   "execution_count": 42,
   "metadata": {},
   "outputs": [
    {
     "data": {
      "text/plain": [
       "fechas\n",
       "2019-01-06     0.000000\n",
       "2019-01-13     2.400000\n",
       "2019-01-20     0.028571\n",
       "2019-01-27     0.000000\n",
       "2019-02-03     0.714286\n",
       "                ...    \n",
       "2023-03-19    22.628571\n",
       "2023-03-26     0.428571\n",
       "2023-04-02     0.628571\n",
       "2023-04-09     9.542857\n",
       "2023-04-16    18.800000\n",
       "Freq: W-SUN, Name: Sum_Lluvia, Length: 224, dtype: float64"
      ]
     },
     "execution_count": 42,
     "metadata": {},
     "output_type": "execute_result"
    }
   ],
   "source": [
    "#Recortando serie semanal \n",
    "ts_prec   = ts_prec  .loc [ts_prec  .index <= ts_trans. index.max()]\n",
    "ts_prec   = ts_prec  .loc [ts_prec  .index >= ts_trans.index.min()]\n",
    "ts_prec  "
   ]
  },
  {
   "cell_type": "code",
   "execution_count": 43,
   "metadata": {},
   "outputs": [],
   "source": [
    "ts_prec_ob = ts_mod.creardf(ts_prec, ts_trans,  \"Preci_pro_ac\")"
   ]
  },
  {
   "cell_type": "code",
   "execution_count": 44,
   "metadata": {},
   "outputs": [
    {
     "name": "stdout",
     "output_type": "stream",
     "text": [
      "Mejor desfase:  19 \n",
      "Mejor periodo:  19\n",
      "Mejor correlación:  -0.5363127337678821\n"
     ]
    }
   ],
   "source": [
    "df_prec = ts_prec_ob.crear_df()"
   ]
  },
  {
   "cell_type": "code",
   "execution_count": 45,
   "metadata": {},
   "outputs": [
    {
     "data": {
      "text/html": [
       "<div>\n",
       "<style scoped>\n",
       "    .dataframe tbody tr th:only-of-type {\n",
       "        vertical-align: middle;\n",
       "    }\n",
       "\n",
       "    .dataframe tbody tr th {\n",
       "        vertical-align: top;\n",
       "    }\n",
       "\n",
       "    .dataframe thead th {\n",
       "        text-align: right;\n",
       "    }\n",
       "</style>\n",
       "<table border=\"1\" class=\"dataframe\">\n",
       "  <thead>\n",
       "    <tr style=\"text-align: right;\">\n",
       "      <th></th>\n",
       "      <th>Preci_pro_ac</th>\n",
       "      <th>Translucidez-BA</th>\n",
       "      <th>variable_clima</th>\n",
       "    </tr>\n",
       "  </thead>\n",
       "  <tbody>\n",
       "    <tr>\n",
       "      <th>Preci_pro_ac</th>\n",
       "      <td>1.000000</td>\n",
       "      <td>-0.536313</td>\n",
       "      <td>-0.397223</td>\n",
       "    </tr>\n",
       "    <tr>\n",
       "      <th>Translucidez-BA</th>\n",
       "      <td>-0.536313</td>\n",
       "      <td>1.000000</td>\n",
       "      <td>0.445346</td>\n",
       "    </tr>\n",
       "    <tr>\n",
       "      <th>variable_clima</th>\n",
       "      <td>-0.397223</td>\n",
       "      <td>0.445346</td>\n",
       "      <td>1.000000</td>\n",
       "    </tr>\n",
       "  </tbody>\n",
       "</table>\n",
       "</div>"
      ],
      "text/plain": [
       "                 Preci_pro_ac  Translucidez-BA  variable_clima\n",
       "Preci_pro_ac         1.000000        -0.536313       -0.397223\n",
       "Translucidez-BA     -0.536313         1.000000        0.445346\n",
       "variable_clima      -0.397223         0.445346        1.000000"
      ]
     },
     "execution_count": 45,
     "metadata": {},
     "output_type": "execute_result"
    }
   ],
   "source": [
    "df_prec .corr()"
   ]
  },
  {
   "cell_type": "code",
   "execution_count": 46,
   "metadata": {},
   "outputs": [
    {
     "data": {
      "text/html": [
       "<div>\n",
       "<style scoped>\n",
       "    .dataframe tbody tr th:only-of-type {\n",
       "        vertical-align: middle;\n",
       "    }\n",
       "\n",
       "    .dataframe tbody tr th {\n",
       "        vertical-align: top;\n",
       "    }\n",
       "\n",
       "    .dataframe thead th {\n",
       "        text-align: right;\n",
       "    }\n",
       "</style>\n",
       "<table border=\"1\" class=\"dataframe\">\n",
       "  <thead>\n",
       "    <tr style=\"text-align: right;\">\n",
       "      <th></th>\n",
       "      <th>Temp_pro_ac</th>\n",
       "      <th>Translucidez-BA</th>\n",
       "      <th>variable_clima</th>\n",
       "      <th>fechas</th>\n",
       "      <th>RAD_pro_ac</th>\n",
       "      <th>Preci_pro_ac</th>\n",
       "    </tr>\n",
       "    <tr>\n",
       "      <th>fechas</th>\n",
       "      <th></th>\n",
       "      <th></th>\n",
       "      <th></th>\n",
       "      <th></th>\n",
       "      <th></th>\n",
       "      <th></th>\n",
       "    </tr>\n",
       "  </thead>\n",
       "  <tbody>\n",
       "    <tr>\n",
       "      <th>2019-09-22</th>\n",
       "      <td>511.216071</td>\n",
       "      <td>10.884106</td>\n",
       "      <td>22.790952</td>\n",
       "      <td>2019-09-22</td>\n",
       "      <td>443.737271</td>\n",
       "      <td>39.914286</td>\n",
       "    </tr>\n",
       "    <tr>\n",
       "      <th>2019-09-29</th>\n",
       "      <td>511.103631</td>\n",
       "      <td>10.961157</td>\n",
       "      <td>23.099123</td>\n",
       "      <td>2019-09-29</td>\n",
       "      <td>439.179603</td>\n",
       "      <td>50.771429</td>\n",
       "    </tr>\n",
       "    <tr>\n",
       "      <th>2019-10-06</th>\n",
       "      <td>511.555238</td>\n",
       "      <td>8.327349</td>\n",
       "      <td>22.706905</td>\n",
       "      <td>2019-10-06</td>\n",
       "      <td>437.342543</td>\n",
       "      <td>58.571429</td>\n",
       "    </tr>\n",
       "    <tr>\n",
       "      <th>2019-10-13</th>\n",
       "      <td>510.789643</td>\n",
       "      <td>7.130161</td>\n",
       "      <td>22.569345</td>\n",
       "      <td>2019-10-13</td>\n",
       "      <td>431.059037</td>\n",
       "      <td>76.942857</td>\n",
       "    </tr>\n",
       "    <tr>\n",
       "      <th>2019-10-20</th>\n",
       "      <td>510.919643</td>\n",
       "      <td>7.609008</td>\n",
       "      <td>22.502738</td>\n",
       "      <td>2019-10-20</td>\n",
       "      <td>427.290341</td>\n",
       "      <td>94.714286</td>\n",
       "    </tr>\n",
       "    <tr>\n",
       "      <th>...</th>\n",
       "      <td>...</td>\n",
       "      <td>...</td>\n",
       "      <td>...</td>\n",
       "      <td>...</td>\n",
       "      <td>...</td>\n",
       "      <td>...</td>\n",
       "    </tr>\n",
       "    <tr>\n",
       "      <th>2023-06-18</th>\n",
       "      <td>508.460752</td>\n",
       "      <td>NaN</td>\n",
       "      <td>NaN</td>\n",
       "      <td>2023-06-18</td>\n",
       "      <td>383.568444</td>\n",
       "      <td>202.093333</td>\n",
       "    </tr>\n",
       "    <tr>\n",
       "      <th>2023-06-25</th>\n",
       "      <td>509.656347</td>\n",
       "      <td>NaN</td>\n",
       "      <td>NaN</td>\n",
       "      <td>2023-06-25</td>\n",
       "      <td>388.981304</td>\n",
       "      <td>192.264762</td>\n",
       "    </tr>\n",
       "    <tr>\n",
       "      <th>2023-07-02</th>\n",
       "      <td>511.712776</td>\n",
       "      <td>NaN</td>\n",
       "      <td>NaN</td>\n",
       "      <td>2023-07-02</td>\n",
       "      <td>393.352830</td>\n",
       "      <td>148.121905</td>\n",
       "    </tr>\n",
       "    <tr>\n",
       "      <th>2023-07-09</th>\n",
       "      <td>513.469919</td>\n",
       "      <td>NaN</td>\n",
       "      <td>NaN</td>\n",
       "      <td>2023-07-09</td>\n",
       "      <td>394.761207</td>\n",
       "      <td>116.950476</td>\n",
       "    </tr>\n",
       "    <tr>\n",
       "      <th>2023-07-16</th>\n",
       "      <td>511.734335</td>\n",
       "      <td>NaN</td>\n",
       "      <td>NaN</td>\n",
       "      <td>2023-07-16</td>\n",
       "      <td>404.906773</td>\n",
       "      <td>68.779048</td>\n",
       "    </tr>\n",
       "  </tbody>\n",
       "</table>\n",
       "<p>200 rows × 6 columns</p>\n",
       "</div>"
      ],
      "text/plain": [
       "            Temp_pro_ac  Translucidez-BA  variable_clima     fechas  \\\n",
       "fechas                                                                \n",
       "2019-09-22   511.216071        10.884106       22.790952 2019-09-22   \n",
       "2019-09-29   511.103631        10.961157       23.099123 2019-09-29   \n",
       "2019-10-06   511.555238         8.327349       22.706905 2019-10-06   \n",
       "2019-10-13   510.789643         7.130161       22.569345 2019-10-13   \n",
       "2019-10-20   510.919643         7.609008       22.502738 2019-10-20   \n",
       "...                 ...              ...             ...        ...   \n",
       "2023-06-18   508.460752              NaN             NaN 2023-06-18   \n",
       "2023-06-25   509.656347              NaN             NaN 2023-06-25   \n",
       "2023-07-02   511.712776              NaN             NaN 2023-07-02   \n",
       "2023-07-09   513.469919              NaN             NaN 2023-07-09   \n",
       "2023-07-16   511.734335              NaN             NaN 2023-07-16   \n",
       "\n",
       "            RAD_pro_ac  Preci_pro_ac  \n",
       "fechas                                \n",
       "2019-09-22  443.737271     39.914286  \n",
       "2019-09-29  439.179603     50.771429  \n",
       "2019-10-06  437.342543     58.571429  \n",
       "2019-10-13  431.059037     76.942857  \n",
       "2019-10-20  427.290341     94.714286  \n",
       "...                ...           ...  \n",
       "2023-06-18  383.568444    202.093333  \n",
       "2023-06-25  388.981304    192.264762  \n",
       "2023-07-02  393.352830    148.121905  \n",
       "2023-07-09  394.761207    116.950476  \n",
       "2023-07-16  404.906773     68.779048  \n",
       "\n",
       "[200 rows x 6 columns]"
      ]
     },
     "execution_count": 46,
     "metadata": {},
     "output_type": "execute_result"
    }
   ],
   "source": [
    "df = df.merge(df_prec[[\"Preci_pro_ac\"]], left_index=True, right_index=True)\n",
    "df"
   ]
  },
  {
   "attachments": {},
   "cell_type": "markdown",
   "metadata": {},
   "source": [
    "### HR"
   ]
  },
  {
   "cell_type": "code",
   "execution_count": 47,
   "metadata": {},
   "outputs": [],
   "source": [
    "ts_clima.campo_para_ts = \"Prom_HR\""
   ]
  },
  {
   "cell_type": "code",
   "execution_count": 48,
   "metadata": {},
   "outputs": [
    {
     "name": "stdout",
     "output_type": "stream",
     "text": [
      "faltan:  27  fechas\n",
      "Total de ts:  3758\n",
      "Inicia:  2013-01-01\n",
      "Fin:  2023-04-16\n"
     ]
    }
   ],
   "source": [
    "ts_HR = ts_clima.crear_ts()"
   ]
  },
  {
   "cell_type": "code",
   "execution_count": 49,
   "metadata": {},
   "outputs": [
    {
     "data": {
      "text/plain": [
       "fechas\n",
       "2019-01-06    80.851250\n",
       "2019-01-07    80.711250\n",
       "2019-01-08    82.076250\n",
       "2019-01-09    85.751250\n",
       "2019-01-10    84.006250\n",
       "                ...    \n",
       "2023-04-12    82.663333\n",
       "2023-04-13    85.550833\n",
       "2023-04-14    89.446667\n",
       "2023-04-15    84.713750\n",
       "2023-04-16    88.573333\n",
       "Freq: D, Name: Prom_HR, Length: 1562, dtype: float64"
      ]
     },
     "execution_count": 49,
     "metadata": {},
     "output_type": "execute_result"
    }
   ],
   "source": [
    "#Recortando serie semanal \n",
    "ts_HR   = ts_HR  .loc [ts_HR  .index <= ts_trans. index.max()]\n",
    "ts_HR   = ts_HR  .loc [ts_HR  .index >= ts_trans.index.min()]\n",
    "ts_HR  "
   ]
  },
  {
   "cell_type": "code",
   "execution_count": 50,
   "metadata": {},
   "outputs": [],
   "source": [
    "ts_HR_ob = ts_mod.creardf(ts_HR , ts_trans,  \"HR_pro_ac\")"
   ]
  },
  {
   "cell_type": "code",
   "execution_count": 51,
   "metadata": {},
   "outputs": [
    {
     "name": "stdout",
     "output_type": "stream",
     "text": [
      "Mejor desfase:  5 \n",
      "Mejor periodo:  15\n",
      "Mejor correlación:  0.5419530000786448\n"
     ]
    }
   ],
   "source": [
    "df_HR = ts_HR_ob.crear_df()"
   ]
  },
  {
   "cell_type": "code",
   "execution_count": 52,
   "metadata": {},
   "outputs": [
    {
     "data": {
      "text/html": [
       "<div>\n",
       "<style scoped>\n",
       "    .dataframe tbody tr th:only-of-type {\n",
       "        vertical-align: middle;\n",
       "    }\n",
       "\n",
       "    .dataframe tbody tr th {\n",
       "        vertical-align: top;\n",
       "    }\n",
       "\n",
       "    .dataframe thead th {\n",
       "        text-align: right;\n",
       "    }\n",
       "</style>\n",
       "<table border=\"1\" class=\"dataframe\">\n",
       "  <thead>\n",
       "    <tr style=\"text-align: right;\">\n",
       "      <th></th>\n",
       "      <th>Temp_pro_ac</th>\n",
       "      <th>Translucidez-BA</th>\n",
       "      <th>variable_clima</th>\n",
       "      <th>fechas</th>\n",
       "      <th>RAD_pro_ac</th>\n",
       "      <th>Preci_pro_ac</th>\n",
       "      <th>HR_pro_ac</th>\n",
       "    </tr>\n",
       "    <tr>\n",
       "      <th>fechas</th>\n",
       "      <th></th>\n",
       "      <th></th>\n",
       "      <th></th>\n",
       "      <th></th>\n",
       "      <th></th>\n",
       "      <th></th>\n",
       "      <th></th>\n",
       "    </tr>\n",
       "  </thead>\n",
       "  <tbody>\n",
       "    <tr>\n",
       "      <th>2019-09-22</th>\n",
       "      <td>511.216071</td>\n",
       "      <td>10.884106</td>\n",
       "      <td>22.790952</td>\n",
       "      <td>2019-09-22</td>\n",
       "      <td>443.737271</td>\n",
       "      <td>39.914286</td>\n",
       "      <td>1313.814167</td>\n",
       "    </tr>\n",
       "    <tr>\n",
       "      <th>2019-09-29</th>\n",
       "      <td>511.103631</td>\n",
       "      <td>10.961157</td>\n",
       "      <td>23.099123</td>\n",
       "      <td>2019-09-29</td>\n",
       "      <td>439.179603</td>\n",
       "      <td>50.771429</td>\n",
       "      <td>1315.644583</td>\n",
       "    </tr>\n",
       "    <tr>\n",
       "      <th>2019-10-06</th>\n",
       "      <td>511.555238</td>\n",
       "      <td>8.327349</td>\n",
       "      <td>22.706905</td>\n",
       "      <td>2019-10-06</td>\n",
       "      <td>437.342543</td>\n",
       "      <td>58.571429</td>\n",
       "      <td>1327.172500</td>\n",
       "    </tr>\n",
       "    <tr>\n",
       "      <th>2019-10-13</th>\n",
       "      <td>510.789643</td>\n",
       "      <td>7.130161</td>\n",
       "      <td>22.569345</td>\n",
       "      <td>2019-10-13</td>\n",
       "      <td>431.059037</td>\n",
       "      <td>76.942857</td>\n",
       "      <td>1324.983409</td>\n",
       "    </tr>\n",
       "    <tr>\n",
       "      <th>2019-10-20</th>\n",
       "      <td>510.919643</td>\n",
       "      <td>7.609008</td>\n",
       "      <td>22.502738</td>\n",
       "      <td>2019-10-20</td>\n",
       "      <td>427.290341</td>\n",
       "      <td>94.714286</td>\n",
       "      <td>1346.698750</td>\n",
       "    </tr>\n",
       "    <tr>\n",
       "      <th>...</th>\n",
       "      <td>...</td>\n",
       "      <td>...</td>\n",
       "      <td>...</td>\n",
       "      <td>...</td>\n",
       "      <td>...</td>\n",
       "      <td>...</td>\n",
       "      <td>...</td>\n",
       "    </tr>\n",
       "    <tr>\n",
       "      <th>2023-04-23</th>\n",
       "      <td>500.966466</td>\n",
       "      <td>NaN</td>\n",
       "      <td>NaN</td>\n",
       "      <td>2023-04-23</td>\n",
       "      <td>342.745537</td>\n",
       "      <td>341.874286</td>\n",
       "      <td>926.007500</td>\n",
       "    </tr>\n",
       "    <tr>\n",
       "      <th>2023-04-30</th>\n",
       "      <td>501.512895</td>\n",
       "      <td>NaN</td>\n",
       "      <td>NaN</td>\n",
       "      <td>2023-04-30</td>\n",
       "      <td>348.771166</td>\n",
       "      <td>325.064762</td>\n",
       "      <td>1004.468333</td>\n",
       "    </tr>\n",
       "    <tr>\n",
       "      <th>2023-05-07</th>\n",
       "      <td>502.393728</td>\n",
       "      <td>NaN</td>\n",
       "      <td>NaN</td>\n",
       "      <td>2023-05-07</td>\n",
       "      <td>351.211564</td>\n",
       "      <td>298.064762</td>\n",
       "      <td>1080.945833</td>\n",
       "    </tr>\n",
       "    <tr>\n",
       "      <th>2023-05-14</th>\n",
       "      <td>503.684562</td>\n",
       "      <td>NaN</td>\n",
       "      <td>NaN</td>\n",
       "      <td>2023-05-14</td>\n",
       "      <td>353.515589</td>\n",
       "      <td>290.293333</td>\n",
       "      <td>1162.594583</td>\n",
       "    </tr>\n",
       "    <tr>\n",
       "      <th>2023-05-21</th>\n",
       "      <td>505.328014</td>\n",
       "      <td>NaN</td>\n",
       "      <td>NaN</td>\n",
       "      <td>2023-05-21</td>\n",
       "      <td>356.894764</td>\n",
       "      <td>285.521905</td>\n",
       "      <td>1169.267500</td>\n",
       "    </tr>\n",
       "  </tbody>\n",
       "</table>\n",
       "<p>183 rows × 7 columns</p>\n",
       "</div>"
      ],
      "text/plain": [
       "            Temp_pro_ac  Translucidez-BA  variable_clima     fechas  \\\n",
       "fechas                                                                \n",
       "2019-09-22   511.216071        10.884106       22.790952 2019-09-22   \n",
       "2019-09-29   511.103631        10.961157       23.099123 2019-09-29   \n",
       "2019-10-06   511.555238         8.327349       22.706905 2019-10-06   \n",
       "2019-10-13   510.789643         7.130161       22.569345 2019-10-13   \n",
       "2019-10-20   510.919643         7.609008       22.502738 2019-10-20   \n",
       "...                 ...              ...             ...        ...   \n",
       "2023-04-23   500.966466              NaN             NaN 2023-04-23   \n",
       "2023-04-30   501.512895              NaN             NaN 2023-04-30   \n",
       "2023-05-07   502.393728              NaN             NaN 2023-05-07   \n",
       "2023-05-14   503.684562              NaN             NaN 2023-05-14   \n",
       "2023-05-21   505.328014              NaN             NaN 2023-05-21   \n",
       "\n",
       "            RAD_pro_ac  Preci_pro_ac    HR_pro_ac  \n",
       "fechas                                             \n",
       "2019-09-22  443.737271     39.914286  1313.814167  \n",
       "2019-09-29  439.179603     50.771429  1315.644583  \n",
       "2019-10-06  437.342543     58.571429  1327.172500  \n",
       "2019-10-13  431.059037     76.942857  1324.983409  \n",
       "2019-10-20  427.290341     94.714286  1346.698750  \n",
       "...                ...           ...          ...  \n",
       "2023-04-23  342.745537    341.874286   926.007500  \n",
       "2023-04-30  348.771166    325.064762  1004.468333  \n",
       "2023-05-07  351.211564    298.064762  1080.945833  \n",
       "2023-05-14  353.515589    290.293333  1162.594583  \n",
       "2023-05-21  356.894764    285.521905  1169.267500  \n",
       "\n",
       "[183 rows x 7 columns]"
      ]
     },
     "execution_count": 52,
     "metadata": {},
     "output_type": "execute_result"
    }
   ],
   "source": [
    "df = df.merge(df_HR[[\"HR_pro_ac\"]], left_index=True, right_index=True)\n",
    "df"
   ]
  },
  {
   "cell_type": "code",
   "execution_count": 53,
   "metadata": {},
   "outputs": [
    {
     "data": {
      "text/html": [
       "<div>\n",
       "<style scoped>\n",
       "    .dataframe tbody tr th:only-of-type {\n",
       "        vertical-align: middle;\n",
       "    }\n",
       "\n",
       "    .dataframe tbody tr th {\n",
       "        vertical-align: top;\n",
       "    }\n",
       "\n",
       "    .dataframe thead th {\n",
       "        text-align: right;\n",
       "    }\n",
       "</style>\n",
       "<table border=\"1\" class=\"dataframe\">\n",
       "  <thead>\n",
       "    <tr style=\"text-align: right;\">\n",
       "      <th></th>\n",
       "      <th>Temp_pro_ac</th>\n",
       "      <th>Translucidez-BA</th>\n",
       "      <th>variable_clima</th>\n",
       "      <th>RAD_pro_ac</th>\n",
       "      <th>Preci_pro_ac</th>\n",
       "      <th>HR_pro_ac</th>\n",
       "    </tr>\n",
       "  </thead>\n",
       "  <tbody>\n",
       "    <tr>\n",
       "      <th>Temp_pro_ac</th>\n",
       "      <td>1.000000</td>\n",
       "      <td>0.695630</td>\n",
       "      <td>-0.318446</td>\n",
       "      <td>0.614822</td>\n",
       "      <td>-0.727615</td>\n",
       "      <td>0.491928</td>\n",
       "    </tr>\n",
       "    <tr>\n",
       "      <th>Translucidez-BA</th>\n",
       "      <td>0.695630</td>\n",
       "      <td>1.000000</td>\n",
       "      <td>-0.471203</td>\n",
       "      <td>0.721759</td>\n",
       "      <td>-0.628087</td>\n",
       "      <td>0.577167</td>\n",
       "    </tr>\n",
       "    <tr>\n",
       "      <th>variable_clima</th>\n",
       "      <td>-0.318446</td>\n",
       "      <td>-0.471203</td>\n",
       "      <td>1.000000</td>\n",
       "      <td>-0.605387</td>\n",
       "      <td>0.420676</td>\n",
       "      <td>-0.517834</td>\n",
       "    </tr>\n",
       "    <tr>\n",
       "      <th>RAD_pro_ac</th>\n",
       "      <td>0.614822</td>\n",
       "      <td>0.721759</td>\n",
       "      <td>-0.605387</td>\n",
       "      <td>1.000000</td>\n",
       "      <td>-0.820744</td>\n",
       "      <td>0.589947</td>\n",
       "    </tr>\n",
       "    <tr>\n",
       "      <th>Preci_pro_ac</th>\n",
       "      <td>-0.727615</td>\n",
       "      <td>-0.628087</td>\n",
       "      <td>0.420676</td>\n",
       "      <td>-0.820744</td>\n",
       "      <td>1.000000</td>\n",
       "      <td>-0.597922</td>\n",
       "    </tr>\n",
       "    <tr>\n",
       "      <th>HR_pro_ac</th>\n",
       "      <td>0.491928</td>\n",
       "      <td>0.577167</td>\n",
       "      <td>-0.517834</td>\n",
       "      <td>0.589947</td>\n",
       "      <td>-0.597922</td>\n",
       "      <td>1.000000</td>\n",
       "    </tr>\n",
       "  </tbody>\n",
       "</table>\n",
       "</div>"
      ],
      "text/plain": [
       "                 Temp_pro_ac  Translucidez-BA  variable_clima  RAD_pro_ac  \\\n",
       "Temp_pro_ac         1.000000         0.695630       -0.318446    0.614822   \n",
       "Translucidez-BA     0.695630         1.000000       -0.471203    0.721759   \n",
       "variable_clima     -0.318446        -0.471203        1.000000   -0.605387   \n",
       "RAD_pro_ac          0.614822         0.721759       -0.605387    1.000000   \n",
       "Preci_pro_ac       -0.727615        -0.628087        0.420676   -0.820744   \n",
       "HR_pro_ac           0.491928         0.577167       -0.517834    0.589947   \n",
       "\n",
       "                 Preci_pro_ac  HR_pro_ac  \n",
       "Temp_pro_ac         -0.727615   0.491928  \n",
       "Translucidez-BA     -0.628087   0.577167  \n",
       "variable_clima       0.420676  -0.517834  \n",
       "RAD_pro_ac          -0.820744   0.589947  \n",
       "Preci_pro_ac         1.000000  -0.597922  \n",
       "HR_pro_ac           -0.597922   1.000000  "
      ]
     },
     "execution_count": 53,
     "metadata": {},
     "output_type": "execute_result"
    }
   ],
   "source": [
    "df.corr()"
   ]
  },
  {
   "attachments": {},
   "cell_type": "markdown",
   "metadata": {},
   "source": [
    "### GDD"
   ]
  },
  {
   "cell_type": "code",
   "execution_count": 54,
   "metadata": {},
   "outputs": [],
   "source": [
    "ts_clima.campo_para_ts = \"GDD\""
   ]
  },
  {
   "cell_type": "code",
   "execution_count": 55,
   "metadata": {},
   "outputs": [
    {
     "name": "stdout",
     "output_type": "stream",
     "text": [
      "faltan:  27  fechas\n",
      "Total de ts:  3758\n",
      "Inicia:  2013-01-01\n",
      "Fin:  2023-04-16\n"
     ]
    }
   ],
   "source": [
    "ts_GDD = ts_clima.crear_ts()"
   ]
  },
  {
   "cell_type": "code",
   "execution_count": 56,
   "metadata": {},
   "outputs": [],
   "source": [
    "#Creación de serie semanal \n",
    "ts_GDD = ts_GDD.resample(\"W\").mean()"
   ]
  },
  {
   "cell_type": "code",
   "execution_count": 57,
   "metadata": {},
   "outputs": [
    {
     "data": {
      "text/plain": [
       "fechas\n",
       "2019-01-06    12.815714\n",
       "2019-01-13    12.316429\n",
       "2019-01-20    11.776429\n",
       "2019-01-27    13.082143\n",
       "2019-02-03    13.317143\n",
       "                ...    \n",
       "2023-03-19    13.141429\n",
       "2023-03-26    14.261429\n",
       "2023-04-02    14.739286\n",
       "2023-04-09    14.480000\n",
       "2023-04-16    14.105714\n",
       "Freq: W-SUN, Name: GDD, Length: 224, dtype: float64"
      ]
     },
     "execution_count": 57,
     "metadata": {},
     "output_type": "execute_result"
    }
   ],
   "source": [
    "#Recortando serie semanal \n",
    "ts_GDD    = ts_GDD .loc [ts_GDD   .index <= ts_trans. index.max()]\n",
    "ts_GDD    = ts_GDD .loc [ts_GDD   .index >= ts_trans.index.min()]\n",
    "ts_GDD   "
   ]
  },
  {
   "cell_type": "code",
   "execution_count": 58,
   "metadata": {},
   "outputs": [],
   "source": [
    "ts_gdd_ob = ts_mod.creardf(ts_GDD   , ts_trans,  \"GDD_pro_ac\")"
   ]
  },
  {
   "cell_type": "code",
   "execution_count": 59,
   "metadata": {},
   "outputs": [
    {
     "name": "stdout",
     "output_type": "stream",
     "text": [
      "Mejor desfase:  19 \n",
      "Mejor periodo:  15\n",
      "Mejor correlación:  0.5316032557444058\n"
     ]
    }
   ],
   "source": [
    "df_GDD = ts_gdd_ob.crear_df()"
   ]
  },
  {
   "cell_type": "code",
   "execution_count": 60,
   "metadata": {},
   "outputs": [],
   "source": [
    "df = df.merge(df_GDD[[\"GDD_pro_ac\"]], left_index=True, right_index=True)\n"
   ]
  },
  {
   "cell_type": "code",
   "execution_count": 61,
   "metadata": {},
   "outputs": [
    {
     "data": {
      "text/html": [
       "<div>\n",
       "<style scoped>\n",
       "    .dataframe tbody tr th:only-of-type {\n",
       "        vertical-align: middle;\n",
       "    }\n",
       "\n",
       "    .dataframe tbody tr th {\n",
       "        vertical-align: top;\n",
       "    }\n",
       "\n",
       "    .dataframe thead th {\n",
       "        text-align: right;\n",
       "    }\n",
       "</style>\n",
       "<table border=\"1\" class=\"dataframe\">\n",
       "  <thead>\n",
       "    <tr style=\"text-align: right;\">\n",
       "      <th></th>\n",
       "      <th>Temp_pro_ac</th>\n",
       "      <th>Translucidez-BA</th>\n",
       "      <th>variable_clima</th>\n",
       "      <th>RAD_pro_ac</th>\n",
       "      <th>Preci_pro_ac</th>\n",
       "      <th>HR_pro_ac</th>\n",
       "      <th>GDD_pro_ac</th>\n",
       "    </tr>\n",
       "  </thead>\n",
       "  <tbody>\n",
       "    <tr>\n",
       "      <th>Temp_pro_ac</th>\n",
       "      <td>1.000000</td>\n",
       "      <td>0.695630</td>\n",
       "      <td>-0.318446</td>\n",
       "      <td>0.614822</td>\n",
       "      <td>-0.727615</td>\n",
       "      <td>0.491928</td>\n",
       "      <td>0.882256</td>\n",
       "    </tr>\n",
       "    <tr>\n",
       "      <th>Translucidez-BA</th>\n",
       "      <td>0.695630</td>\n",
       "      <td>1.000000</td>\n",
       "      <td>-0.471203</td>\n",
       "      <td>0.721759</td>\n",
       "      <td>-0.628087</td>\n",
       "      <td>0.577167</td>\n",
       "      <td>0.623371</td>\n",
       "    </tr>\n",
       "    <tr>\n",
       "      <th>variable_clima</th>\n",
       "      <td>-0.318446</td>\n",
       "      <td>-0.471203</td>\n",
       "      <td>1.000000</td>\n",
       "      <td>-0.605387</td>\n",
       "      <td>0.420676</td>\n",
       "      <td>-0.517834</td>\n",
       "      <td>-0.263954</td>\n",
       "    </tr>\n",
       "    <tr>\n",
       "      <th>RAD_pro_ac</th>\n",
       "      <td>0.614822</td>\n",
       "      <td>0.721759</td>\n",
       "      <td>-0.605387</td>\n",
       "      <td>1.000000</td>\n",
       "      <td>-0.820744</td>\n",
       "      <td>0.589947</td>\n",
       "      <td>0.484322</td>\n",
       "    </tr>\n",
       "    <tr>\n",
       "      <th>Preci_pro_ac</th>\n",
       "      <td>-0.727615</td>\n",
       "      <td>-0.628087</td>\n",
       "      <td>0.420676</td>\n",
       "      <td>-0.820744</td>\n",
       "      <td>1.000000</td>\n",
       "      <td>-0.597922</td>\n",
       "      <td>-0.541526</td>\n",
       "    </tr>\n",
       "    <tr>\n",
       "      <th>HR_pro_ac</th>\n",
       "      <td>0.491928</td>\n",
       "      <td>0.577167</td>\n",
       "      <td>-0.517834</td>\n",
       "      <td>0.589947</td>\n",
       "      <td>-0.597922</td>\n",
       "      <td>1.000000</td>\n",
       "      <td>0.349027</td>\n",
       "    </tr>\n",
       "    <tr>\n",
       "      <th>GDD_pro_ac</th>\n",
       "      <td>0.882256</td>\n",
       "      <td>0.623371</td>\n",
       "      <td>-0.263954</td>\n",
       "      <td>0.484322</td>\n",
       "      <td>-0.541526</td>\n",
       "      <td>0.349027</td>\n",
       "      <td>1.000000</td>\n",
       "    </tr>\n",
       "  </tbody>\n",
       "</table>\n",
       "</div>"
      ],
      "text/plain": [
       "                 Temp_pro_ac  Translucidez-BA  variable_clima  RAD_pro_ac  \\\n",
       "Temp_pro_ac         1.000000         0.695630       -0.318446    0.614822   \n",
       "Translucidez-BA     0.695630         1.000000       -0.471203    0.721759   \n",
       "variable_clima     -0.318446        -0.471203        1.000000   -0.605387   \n",
       "RAD_pro_ac          0.614822         0.721759       -0.605387    1.000000   \n",
       "Preci_pro_ac       -0.727615        -0.628087        0.420676   -0.820744   \n",
       "HR_pro_ac           0.491928         0.577167       -0.517834    0.589947   \n",
       "GDD_pro_ac          0.882256         0.623371       -0.263954    0.484322   \n",
       "\n",
       "                 Preci_pro_ac  HR_pro_ac  GDD_pro_ac  \n",
       "Temp_pro_ac         -0.727615   0.491928    0.882256  \n",
       "Translucidez-BA     -0.628087   0.577167    0.623371  \n",
       "variable_clima       0.420676  -0.517834   -0.263954  \n",
       "RAD_pro_ac          -0.820744   0.589947    0.484322  \n",
       "Preci_pro_ac         1.000000  -0.597922   -0.541526  \n",
       "HR_pro_ac           -0.597922   1.000000    0.349027  \n",
       "GDD_pro_ac          -0.541526   0.349027    1.000000  "
      ]
     },
     "execution_count": 61,
     "metadata": {},
     "output_type": "execute_result"
    }
   ],
   "source": [
    "df.corr()"
   ]
  },
  {
   "cell_type": "code",
   "execution_count": 62,
   "metadata": {},
   "outputs": [],
   "source": [
    "# Agregado datos de translucidez\n",
    "\n",
    "df['Translucidez'] = ts_trans"
   ]
  },
  {
   "cell_type": "code",
   "execution_count": 63,
   "metadata": {},
   "outputs": [
    {
     "data": {
      "text/html": [
       "<div>\n",
       "<style scoped>\n",
       "    .dataframe tbody tr th:only-of-type {\n",
       "        vertical-align: middle;\n",
       "    }\n",
       "\n",
       "    .dataframe tbody tr th {\n",
       "        vertical-align: top;\n",
       "    }\n",
       "\n",
       "    .dataframe thead th {\n",
       "        text-align: right;\n",
       "    }\n",
       "</style>\n",
       "<table border=\"1\" class=\"dataframe\">\n",
       "  <thead>\n",
       "    <tr style=\"text-align: right;\">\n",
       "      <th></th>\n",
       "      <th>Temp_pro_ac</th>\n",
       "      <th>Translucidez-BA</th>\n",
       "      <th>variable_clima</th>\n",
       "      <th>fechas</th>\n",
       "      <th>RAD_pro_ac</th>\n",
       "      <th>Preci_pro_ac</th>\n",
       "      <th>HR_pro_ac</th>\n",
       "      <th>GDD_pro_ac</th>\n",
       "      <th>Translucidez</th>\n",
       "    </tr>\n",
       "    <tr>\n",
       "      <th>fechas</th>\n",
       "      <th></th>\n",
       "      <th></th>\n",
       "      <th></th>\n",
       "      <th></th>\n",
       "      <th></th>\n",
       "      <th></th>\n",
       "      <th></th>\n",
       "      <th></th>\n",
       "      <th></th>\n",
       "    </tr>\n",
       "  </thead>\n",
       "  <tbody>\n",
       "    <tr>\n",
       "      <th>2023-04-23</th>\n",
       "      <td>500.966466</td>\n",
       "      <td>NaN</td>\n",
       "      <td>NaN</td>\n",
       "      <td>2023-04-23</td>\n",
       "      <td>342.745537</td>\n",
       "      <td>341.874286</td>\n",
       "      <td>926.007500</td>\n",
       "      <td>208.684286</td>\n",
       "      <td>0.0</td>\n",
       "    </tr>\n",
       "    <tr>\n",
       "      <th>2023-04-30</th>\n",
       "      <td>501.512895</td>\n",
       "      <td>NaN</td>\n",
       "      <td>NaN</td>\n",
       "      <td>2023-04-30</td>\n",
       "      <td>348.771166</td>\n",
       "      <td>325.064762</td>\n",
       "      <td>1004.468333</td>\n",
       "      <td>208.577976</td>\n",
       "      <td>0.0</td>\n",
       "    </tr>\n",
       "    <tr>\n",
       "      <th>2023-05-07</th>\n",
       "      <td>502.393728</td>\n",
       "      <td>NaN</td>\n",
       "      <td>NaN</td>\n",
       "      <td>2023-05-07</td>\n",
       "      <td>351.211564</td>\n",
       "      <td>298.064762</td>\n",
       "      <td>1080.945833</td>\n",
       "      <td>208.590833</td>\n",
       "      <td>NaN</td>\n",
       "    </tr>\n",
       "    <tr>\n",
       "      <th>2023-05-14</th>\n",
       "      <td>503.684562</td>\n",
       "      <td>NaN</td>\n",
       "      <td>NaN</td>\n",
       "      <td>2023-05-14</td>\n",
       "      <td>353.515589</td>\n",
       "      <td>290.293333</td>\n",
       "      <td>1162.594583</td>\n",
       "      <td>209.024405</td>\n",
       "      <td>NaN</td>\n",
       "    </tr>\n",
       "    <tr>\n",
       "      <th>2023-05-21</th>\n",
       "      <td>505.328014</td>\n",
       "      <td>NaN</td>\n",
       "      <td>NaN</td>\n",
       "      <td>2023-05-21</td>\n",
       "      <td>356.894764</td>\n",
       "      <td>285.521905</td>\n",
       "      <td>1169.267500</td>\n",
       "      <td>208.883690</td>\n",
       "      <td>NaN</td>\n",
       "    </tr>\n",
       "  </tbody>\n",
       "</table>\n",
       "</div>"
      ],
      "text/plain": [
       "            Temp_pro_ac  Translucidez-BA  variable_clima     fechas  \\\n",
       "fechas                                                                \n",
       "2023-04-23   500.966466              NaN             NaN 2023-04-23   \n",
       "2023-04-30   501.512895              NaN             NaN 2023-04-30   \n",
       "2023-05-07   502.393728              NaN             NaN 2023-05-07   \n",
       "2023-05-14   503.684562              NaN             NaN 2023-05-14   \n",
       "2023-05-21   505.328014              NaN             NaN 2023-05-21   \n",
       "\n",
       "            RAD_pro_ac  Preci_pro_ac    HR_pro_ac  GDD_pro_ac  Translucidez  \n",
       "fechas                                                                       \n",
       "2023-04-23  342.745537    341.874286   926.007500  208.684286           0.0  \n",
       "2023-04-30  348.771166    325.064762  1004.468333  208.577976           0.0  \n",
       "2023-05-07  351.211564    298.064762  1080.945833  208.590833           NaN  \n",
       "2023-05-14  353.515589    290.293333  1162.594583  209.024405           NaN  \n",
       "2023-05-21  356.894764    285.521905  1169.267500  208.883690           NaN  "
      ]
     },
     "execution_count": 63,
     "metadata": {},
     "output_type": "execute_result"
    }
   ],
   "source": [
    "df.tail(5)"
   ]
  },
  {
   "attachments": {},
   "cell_type": "markdown",
   "metadata": {},
   "source": [
    "### Importando HW"
   ]
  },
  {
   "cell_type": "code",
   "execution_count": 64,
   "metadata": {},
   "outputs": [
    {
     "name": "stdout",
     "output_type": "stream",
     "text": [
      "Fecha inicial:  2021-01-10 \n",
      "Fecha Final: 2023-05-21\n"
     ]
    }
   ],
   "source": [
    "#Importando HW calculado \n",
    "\n",
    "df_HW_his = pd.read_csv(\"df_HW.csv\")\n",
    "df_HW_his.index = pd.DatetimeIndex(df_HW_his[\"Fecha\"])\n",
    "df_HW_his = df_HW_his.drop(\"Fecha\", axis=1)\n",
    "print (\"Fecha inicial: \" , df_HW_his.index.min().date(),\n",
    "       \"\\nFecha Final:\" ,  df_HW_his.index.max().date())"
   ]
  },
  {
   "cell_type": "code",
   "execution_count": 65,
   "metadata": {},
   "outputs": [
    {
     "name": "stdout",
     "output_type": "stream",
     "text": [
      "Las predicciones de HW a 3 semanas listas \n"
     ]
    }
   ],
   "source": [
    "if ((ts_trans.index.max() + timedelta(weeks = 3)).date()) > (df_HW_his.index.max().date()):\n",
    "    print (\"Corriendo\")\n",
    "    #Carga base \n",
    "    df_HW_his = pd.read_csv(\"df_HW.csv\")\n",
    "    df_HW_his.index = pd.DatetimeIndex(df_HW_his[\"Fecha\"])\n",
    "    df_HW_his = df_HW_his.drop(\"Fecha\", axis=1)\n",
    "    # filtro de la serie de translucidez con ultima fecha de HW para predecir siguente\n",
    "    ts_trans = ts_trans_suavizado.loc[:df_HW_his.index.max().date():]\n",
    "    # Train y Test de HW\n",
    "    HW_train = ts_trans.head((len(ts_trans) - 1))\n",
    "    HW_test = ts_trans.tail(1)    \n",
    "    #Modelo calibrado\n",
    "    modelo_calibrado= HW_calibrado.HW_calibrado(HW_train, HW_test )\n",
    "    modelo_calibrado_fit= modelo_calibrado.fit(0.05)\n",
    "    #Prediccion Final\n",
    "    modelo = ExponentialSmoothing(ts_trans, trend = 'add', seasonal = 'add')\n",
    "    modelo_fit = modelo.fit(smoothing_level = modelo_calibrado_fit.alpha, smoothing_slope = modelo_calibrado_fit.beta, smoothing_seasonal = modelo_calibrado_fit.gamma)\n",
    "    pred_calibrado_p = modelo_fit.forecast(3)\n",
    "    pred_calibrado_p[pred_calibrado_p< 0] = 0\n",
    "    #Agregando prediccion de una semana al historial \n",
    "    df_HW_his.loc[pred_calibrado_p.index[0], \"HW\"] = pred_calibrado_p[0] \n",
    "    #Expotando historial de HW\n",
    "    df_HW_his.to_csv(\"df_HW.csv\")\n",
    "    #Agregando prediccion de 3 semanas\n",
    "    for i in range(len(pred_calibrado_p)): \n",
    "        df_HW_his.loc[pred_calibrado_p.index[i], \"HW\"] = pred_calibrado_p[i] \n",
    "else:\n",
    "    print (\"Las predicciones de HW a 3 semanas listas \")"
   ]
  },
  {
   "cell_type": "code",
   "execution_count": 66,
   "metadata": {},
   "outputs": [],
   "source": [
    "df_HW_his.to_csv(\"df_HW.csv\")"
   ]
  },
  {
   "cell_type": "code",
   "execution_count": 67,
   "metadata": {},
   "outputs": [
    {
     "data": {
      "text/html": [
       "<div>\n",
       "<style scoped>\n",
       "    .dataframe tbody tr th:only-of-type {\n",
       "        vertical-align: middle;\n",
       "    }\n",
       "\n",
       "    .dataframe tbody tr th {\n",
       "        vertical-align: top;\n",
       "    }\n",
       "\n",
       "    .dataframe thead th {\n",
       "        text-align: right;\n",
       "    }\n",
       "</style>\n",
       "<table border=\"1\" class=\"dataframe\">\n",
       "  <thead>\n",
       "    <tr style=\"text-align: right;\">\n",
       "      <th></th>\n",
       "      <th>HW</th>\n",
       "    </tr>\n",
       "    <tr>\n",
       "      <th>Fecha</th>\n",
       "      <th></th>\n",
       "    </tr>\n",
       "  </thead>\n",
       "  <tbody>\n",
       "    <tr>\n",
       "      <th>2021-01-10</th>\n",
       "      <td>0.000000</td>\n",
       "    </tr>\n",
       "    <tr>\n",
       "      <th>2021-01-17</th>\n",
       "      <td>0.011955</td>\n",
       "    </tr>\n",
       "    <tr>\n",
       "      <th>2021-01-24</th>\n",
       "      <td>0.061569</td>\n",
       "    </tr>\n",
       "    <tr>\n",
       "      <th>2021-01-31</th>\n",
       "      <td>0.017889</td>\n",
       "    </tr>\n",
       "    <tr>\n",
       "      <th>2021-02-07</th>\n",
       "      <td>0.000000</td>\n",
       "    </tr>\n",
       "    <tr>\n",
       "      <th>...</th>\n",
       "      <td>...</td>\n",
       "    </tr>\n",
       "    <tr>\n",
       "      <th>2023-04-23</th>\n",
       "      <td>0.000000</td>\n",
       "    </tr>\n",
       "    <tr>\n",
       "      <th>2023-04-30</th>\n",
       "      <td>0.690456</td>\n",
       "    </tr>\n",
       "    <tr>\n",
       "      <th>2023-05-07</th>\n",
       "      <td>0.356519</td>\n",
       "    </tr>\n",
       "    <tr>\n",
       "      <th>2023-05-14</th>\n",
       "      <td>0.739986</td>\n",
       "    </tr>\n",
       "    <tr>\n",
       "      <th>2023-05-21</th>\n",
       "      <td>1.384696</td>\n",
       "    </tr>\n",
       "  </tbody>\n",
       "</table>\n",
       "<p>124 rows × 1 columns</p>\n",
       "</div>"
      ],
      "text/plain": [
       "                  HW\n",
       "Fecha               \n",
       "2021-01-10  0.000000\n",
       "2021-01-17  0.011955\n",
       "2021-01-24  0.061569\n",
       "2021-01-31  0.017889\n",
       "2021-02-07  0.000000\n",
       "...              ...\n",
       "2023-04-23  0.000000\n",
       "2023-04-30  0.690456\n",
       "2023-05-07  0.356519\n",
       "2023-05-14  0.739986\n",
       "2023-05-21  1.384696\n",
       "\n",
       "[124 rows x 1 columns]"
      ]
     },
     "execution_count": 67,
     "metadata": {},
     "output_type": "execute_result"
    }
   ],
   "source": [
    "df_HW_his"
   ]
  },
  {
   "cell_type": "code",
   "execution_count": 68,
   "metadata": {},
   "outputs": [],
   "source": [
    "#Agregando al df prediccion de HW\n",
    "df_ml= pd.merge(df, df_HW_his,  left_index=True, right_index=True)"
   ]
  },
  {
   "cell_type": "code",
   "execution_count": 69,
   "metadata": {},
   "outputs": [
    {
     "data": {
      "text/html": [
       "<div>\n",
       "<style scoped>\n",
       "    .dataframe tbody tr th:only-of-type {\n",
       "        vertical-align: middle;\n",
       "    }\n",
       "\n",
       "    .dataframe tbody tr th {\n",
       "        vertical-align: top;\n",
       "    }\n",
       "\n",
       "    .dataframe thead th {\n",
       "        text-align: right;\n",
       "    }\n",
       "</style>\n",
       "<table border=\"1\" class=\"dataframe\">\n",
       "  <thead>\n",
       "    <tr style=\"text-align: right;\">\n",
       "      <th></th>\n",
       "      <th>Temp_pro_ac</th>\n",
       "      <th>Translucidez-BA</th>\n",
       "      <th>variable_clima</th>\n",
       "      <th>fechas</th>\n",
       "      <th>RAD_pro_ac</th>\n",
       "      <th>Preci_pro_ac</th>\n",
       "      <th>HR_pro_ac</th>\n",
       "      <th>GDD_pro_ac</th>\n",
       "      <th>Translucidez</th>\n",
       "      <th>HW</th>\n",
       "    </tr>\n",
       "  </thead>\n",
       "  <tbody>\n",
       "    <tr>\n",
       "      <th>2021-01-10</th>\n",
       "      <td>491.885893</td>\n",
       "      <td>0.071495</td>\n",
       "      <td>23.091548</td>\n",
       "      <td>2021-01-10</td>\n",
       "      <td>369.719919</td>\n",
       "      <td>297.171429</td>\n",
       "      <td>1293.111667</td>\n",
       "      <td>191.045000</td>\n",
       "      <td>0.214485</td>\n",
       "      <td>0.000000</td>\n",
       "    </tr>\n",
       "    <tr>\n",
       "      <th>2021-01-17</th>\n",
       "      <td>490.871845</td>\n",
       "      <td>0.072494</td>\n",
       "      <td>23.588571</td>\n",
       "      <td>2021-01-17</td>\n",
       "      <td>364.429417</td>\n",
       "      <td>314.857143</td>\n",
       "      <td>1285.020417</td>\n",
       "      <td>190.007857</td>\n",
       "      <td>0.000000</td>\n",
       "      <td>0.011955</td>\n",
       "    </tr>\n",
       "    <tr>\n",
       "      <th>2021-01-24</th>\n",
       "      <td>490.245952</td>\n",
       "      <td>0.000999</td>\n",
       "      <td>23.407024</td>\n",
       "      <td>2021-01-24</td>\n",
       "      <td>364.942001</td>\n",
       "      <td>312.428571</td>\n",
       "      <td>1254.701667</td>\n",
       "      <td>189.927143</td>\n",
       "      <td>0.002998</td>\n",
       "      <td>0.061569</td>\n",
       "    </tr>\n",
       "    <tr>\n",
       "      <th>2021-01-31</th>\n",
       "      <td>489.731190</td>\n",
       "      <td>0.000999</td>\n",
       "      <td>23.429524</td>\n",
       "      <td>2021-01-31</td>\n",
       "      <td>365.411356</td>\n",
       "      <td>353.657143</td>\n",
       "      <td>1236.065417</td>\n",
       "      <td>189.823571</td>\n",
       "      <td>0.000000</td>\n",
       "      <td>0.017889</td>\n",
       "    </tr>\n",
       "    <tr>\n",
       "      <th>2021-02-07</th>\n",
       "      <td>487.951369</td>\n",
       "      <td>0.000000</td>\n",
       "      <td>24.747738</td>\n",
       "      <td>2021-02-07</td>\n",
       "      <td>365.225766</td>\n",
       "      <td>360.214286</td>\n",
       "      <td>1185.120000</td>\n",
       "      <td>189.558571</td>\n",
       "      <td>0.000000</td>\n",
       "      <td>0.000000</td>\n",
       "    </tr>\n",
       "    <tr>\n",
       "      <th>...</th>\n",
       "      <td>...</td>\n",
       "      <td>...</td>\n",
       "      <td>...</td>\n",
       "      <td>...</td>\n",
       "      <td>...</td>\n",
       "      <td>...</td>\n",
       "      <td>...</td>\n",
       "      <td>...</td>\n",
       "      <td>...</td>\n",
       "      <td>...</td>\n",
       "    </tr>\n",
       "    <tr>\n",
       "      <th>2023-04-23</th>\n",
       "      <td>500.966466</td>\n",
       "      <td>NaN</td>\n",
       "      <td>NaN</td>\n",
       "      <td>2023-04-23</td>\n",
       "      <td>342.745537</td>\n",
       "      <td>341.874286</td>\n",
       "      <td>926.007500</td>\n",
       "      <td>208.684286</td>\n",
       "      <td>0.000000</td>\n",
       "      <td>0.000000</td>\n",
       "    </tr>\n",
       "    <tr>\n",
       "      <th>2023-04-30</th>\n",
       "      <td>501.512895</td>\n",
       "      <td>NaN</td>\n",
       "      <td>NaN</td>\n",
       "      <td>2023-04-30</td>\n",
       "      <td>348.771166</td>\n",
       "      <td>325.064762</td>\n",
       "      <td>1004.468333</td>\n",
       "      <td>208.577976</td>\n",
       "      <td>0.000000</td>\n",
       "      <td>0.690456</td>\n",
       "    </tr>\n",
       "    <tr>\n",
       "      <th>2023-05-07</th>\n",
       "      <td>502.393728</td>\n",
       "      <td>NaN</td>\n",
       "      <td>NaN</td>\n",
       "      <td>2023-05-07</td>\n",
       "      <td>351.211564</td>\n",
       "      <td>298.064762</td>\n",
       "      <td>1080.945833</td>\n",
       "      <td>208.590833</td>\n",
       "      <td>NaN</td>\n",
       "      <td>0.356519</td>\n",
       "    </tr>\n",
       "    <tr>\n",
       "      <th>2023-05-14</th>\n",
       "      <td>503.684562</td>\n",
       "      <td>NaN</td>\n",
       "      <td>NaN</td>\n",
       "      <td>2023-05-14</td>\n",
       "      <td>353.515589</td>\n",
       "      <td>290.293333</td>\n",
       "      <td>1162.594583</td>\n",
       "      <td>209.024405</td>\n",
       "      <td>NaN</td>\n",
       "      <td>0.739986</td>\n",
       "    </tr>\n",
       "    <tr>\n",
       "      <th>2023-05-21</th>\n",
       "      <td>505.328014</td>\n",
       "      <td>NaN</td>\n",
       "      <td>NaN</td>\n",
       "      <td>2023-05-21</td>\n",
       "      <td>356.894764</td>\n",
       "      <td>285.521905</td>\n",
       "      <td>1169.267500</td>\n",
       "      <td>208.883690</td>\n",
       "      <td>NaN</td>\n",
       "      <td>1.384696</td>\n",
       "    </tr>\n",
       "  </tbody>\n",
       "</table>\n",
       "<p>118 rows × 10 columns</p>\n",
       "</div>"
      ],
      "text/plain": [
       "            Temp_pro_ac  Translucidez-BA  variable_clima     fechas  \\\n",
       "2021-01-10   491.885893         0.071495       23.091548 2021-01-10   \n",
       "2021-01-17   490.871845         0.072494       23.588571 2021-01-17   \n",
       "2021-01-24   490.245952         0.000999       23.407024 2021-01-24   \n",
       "2021-01-31   489.731190         0.000999       23.429524 2021-01-31   \n",
       "2021-02-07   487.951369         0.000000       24.747738 2021-02-07   \n",
       "...                 ...              ...             ...        ...   \n",
       "2023-04-23   500.966466              NaN             NaN 2023-04-23   \n",
       "2023-04-30   501.512895              NaN             NaN 2023-04-30   \n",
       "2023-05-07   502.393728              NaN             NaN 2023-05-07   \n",
       "2023-05-14   503.684562              NaN             NaN 2023-05-14   \n",
       "2023-05-21   505.328014              NaN             NaN 2023-05-21   \n",
       "\n",
       "            RAD_pro_ac  Preci_pro_ac    HR_pro_ac  GDD_pro_ac  Translucidez  \\\n",
       "2021-01-10  369.719919    297.171429  1293.111667  191.045000      0.214485   \n",
       "2021-01-17  364.429417    314.857143  1285.020417  190.007857      0.000000   \n",
       "2021-01-24  364.942001    312.428571  1254.701667  189.927143      0.002998   \n",
       "2021-01-31  365.411356    353.657143  1236.065417  189.823571      0.000000   \n",
       "2021-02-07  365.225766    360.214286  1185.120000  189.558571      0.000000   \n",
       "...                ...           ...          ...         ...           ...   \n",
       "2023-04-23  342.745537    341.874286   926.007500  208.684286      0.000000   \n",
       "2023-04-30  348.771166    325.064762  1004.468333  208.577976      0.000000   \n",
       "2023-05-07  351.211564    298.064762  1080.945833  208.590833           NaN   \n",
       "2023-05-14  353.515589    290.293333  1162.594583  209.024405           NaN   \n",
       "2023-05-21  356.894764    285.521905  1169.267500  208.883690           NaN   \n",
       "\n",
       "                  HW  \n",
       "2021-01-10  0.000000  \n",
       "2021-01-17  0.011955  \n",
       "2021-01-24  0.061569  \n",
       "2021-01-31  0.017889  \n",
       "2021-02-07  0.000000  \n",
       "...              ...  \n",
       "2023-04-23  0.000000  \n",
       "2023-04-30  0.690456  \n",
       "2023-05-07  0.356519  \n",
       "2023-05-14  0.739986  \n",
       "2023-05-21  1.384696  \n",
       "\n",
       "[118 rows x 10 columns]"
      ]
     },
     "execution_count": 69,
     "metadata": {},
     "output_type": "execute_result"
    }
   ],
   "source": [
    "df_ml"
   ]
  },
  {
   "cell_type": "code",
   "execution_count": 70,
   "metadata": {},
   "outputs": [
    {
     "data": {
      "text/html": [
       "<div>\n",
       "<style scoped>\n",
       "    .dataframe tbody tr th:only-of-type {\n",
       "        vertical-align: middle;\n",
       "    }\n",
       "\n",
       "    .dataframe tbody tr th {\n",
       "        vertical-align: top;\n",
       "    }\n",
       "\n",
       "    .dataframe thead th {\n",
       "        text-align: right;\n",
       "    }\n",
       "</style>\n",
       "<table border=\"1\" class=\"dataframe\">\n",
       "  <thead>\n",
       "    <tr style=\"text-align: right;\">\n",
       "      <th></th>\n",
       "      <th>Temp_pro_ac</th>\n",
       "      <th>Translucidez-BA</th>\n",
       "      <th>variable_clima</th>\n",
       "      <th>RAD_pro_ac</th>\n",
       "      <th>Preci_pro_ac</th>\n",
       "      <th>HR_pro_ac</th>\n",
       "      <th>GDD_pro_ac</th>\n",
       "      <th>Translucidez</th>\n",
       "      <th>HW</th>\n",
       "    </tr>\n",
       "  </thead>\n",
       "  <tbody>\n",
       "    <tr>\n",
       "      <th>Temp_pro_ac</th>\n",
       "      <td>1.000000</td>\n",
       "      <td>0.631386</td>\n",
       "      <td>-0.080168</td>\n",
       "      <td>0.414309</td>\n",
       "      <td>-0.702374</td>\n",
       "      <td>0.334566</td>\n",
       "      <td>0.890591</td>\n",
       "      <td>0.524929</td>\n",
       "      <td>0.519034</td>\n",
       "    </tr>\n",
       "    <tr>\n",
       "      <th>Translucidez-BA</th>\n",
       "      <td>0.631386</td>\n",
       "      <td>1.000000</td>\n",
       "      <td>-0.286435</td>\n",
       "      <td>0.622230</td>\n",
       "      <td>-0.655852</td>\n",
       "      <td>0.475512</td>\n",
       "      <td>0.535850</td>\n",
       "      <td>0.822205</td>\n",
       "      <td>0.861738</td>\n",
       "    </tr>\n",
       "    <tr>\n",
       "      <th>variable_clima</th>\n",
       "      <td>-0.080168</td>\n",
       "      <td>-0.286435</td>\n",
       "      <td>1.000000</td>\n",
       "      <td>-0.486876</td>\n",
       "      <td>0.324792</td>\n",
       "      <td>-0.308295</td>\n",
       "      <td>-0.002805</td>\n",
       "      <td>-0.188916</td>\n",
       "      <td>-0.273964</td>\n",
       "    </tr>\n",
       "    <tr>\n",
       "      <th>RAD_pro_ac</th>\n",
       "      <td>0.414309</td>\n",
       "      <td>0.622230</td>\n",
       "      <td>-0.486876</td>\n",
       "      <td>1.000000</td>\n",
       "      <td>-0.878093</td>\n",
       "      <td>0.480125</td>\n",
       "      <td>0.237773</td>\n",
       "      <td>0.528017</td>\n",
       "      <td>0.569432</td>\n",
       "    </tr>\n",
       "    <tr>\n",
       "      <th>Preci_pro_ac</th>\n",
       "      <td>-0.702374</td>\n",
       "      <td>-0.655852</td>\n",
       "      <td>0.324792</td>\n",
       "      <td>-0.878093</td>\n",
       "      <td>1.000000</td>\n",
       "      <td>-0.567728</td>\n",
       "      <td>-0.555350</td>\n",
       "      <td>-0.558617</td>\n",
       "      <td>-0.555529</td>\n",
       "    </tr>\n",
       "    <tr>\n",
       "      <th>HR_pro_ac</th>\n",
       "      <td>0.334566</td>\n",
       "      <td>0.475512</td>\n",
       "      <td>-0.308295</td>\n",
       "      <td>0.480125</td>\n",
       "      <td>-0.567728</td>\n",
       "      <td>1.000000</td>\n",
       "      <td>0.197942</td>\n",
       "      <td>0.410868</td>\n",
       "      <td>0.402256</td>\n",
       "    </tr>\n",
       "    <tr>\n",
       "      <th>GDD_pro_ac</th>\n",
       "      <td>0.890591</td>\n",
       "      <td>0.535850</td>\n",
       "      <td>-0.002805</td>\n",
       "      <td>0.237773</td>\n",
       "      <td>-0.555350</td>\n",
       "      <td>0.197942</td>\n",
       "      <td>1.000000</td>\n",
       "      <td>0.419703</td>\n",
       "      <td>0.373017</td>\n",
       "    </tr>\n",
       "    <tr>\n",
       "      <th>Translucidez</th>\n",
       "      <td>0.524929</td>\n",
       "      <td>0.822205</td>\n",
       "      <td>-0.188916</td>\n",
       "      <td>0.528017</td>\n",
       "      <td>-0.558617</td>\n",
       "      <td>0.410868</td>\n",
       "      <td>0.419703</td>\n",
       "      <td>1.000000</td>\n",
       "      <td>0.771634</td>\n",
       "    </tr>\n",
       "    <tr>\n",
       "      <th>HW</th>\n",
       "      <td>0.519034</td>\n",
       "      <td>0.861738</td>\n",
       "      <td>-0.273964</td>\n",
       "      <td>0.569432</td>\n",
       "      <td>-0.555529</td>\n",
       "      <td>0.402256</td>\n",
       "      <td>0.373017</td>\n",
       "      <td>0.771634</td>\n",
       "      <td>1.000000</td>\n",
       "    </tr>\n",
       "  </tbody>\n",
       "</table>\n",
       "</div>"
      ],
      "text/plain": [
       "                 Temp_pro_ac  Translucidez-BA  variable_clima  RAD_pro_ac  \\\n",
       "Temp_pro_ac         1.000000         0.631386       -0.080168    0.414309   \n",
       "Translucidez-BA     0.631386         1.000000       -0.286435    0.622230   \n",
       "variable_clima     -0.080168        -0.286435        1.000000   -0.486876   \n",
       "RAD_pro_ac          0.414309         0.622230       -0.486876    1.000000   \n",
       "Preci_pro_ac       -0.702374        -0.655852        0.324792   -0.878093   \n",
       "HR_pro_ac           0.334566         0.475512       -0.308295    0.480125   \n",
       "GDD_pro_ac          0.890591         0.535850       -0.002805    0.237773   \n",
       "Translucidez        0.524929         0.822205       -0.188916    0.528017   \n",
       "HW                  0.519034         0.861738       -0.273964    0.569432   \n",
       "\n",
       "                 Preci_pro_ac  HR_pro_ac  GDD_pro_ac  Translucidez        HW  \n",
       "Temp_pro_ac         -0.702374   0.334566    0.890591      0.524929  0.519034  \n",
       "Translucidez-BA     -0.655852   0.475512    0.535850      0.822205  0.861738  \n",
       "variable_clima       0.324792  -0.308295   -0.002805     -0.188916 -0.273964  \n",
       "RAD_pro_ac          -0.878093   0.480125    0.237773      0.528017  0.569432  \n",
       "Preci_pro_ac         1.000000  -0.567728   -0.555350     -0.558617 -0.555529  \n",
       "HR_pro_ac           -0.567728   1.000000    0.197942      0.410868  0.402256  \n",
       "GDD_pro_ac          -0.555350   0.197942    1.000000      0.419703  0.373017  \n",
       "Translucidez        -0.558617   0.410868    0.419703      1.000000  0.771634  \n",
       "HW                  -0.555529   0.402256    0.373017      0.771634  1.000000  "
      ]
     },
     "execution_count": 70,
     "metadata": {},
     "output_type": "execute_result"
    }
   ],
   "source": [
    "df_ml.corr()"
   ]
  },
  {
   "cell_type": "code",
   "execution_count": 71,
   "metadata": {},
   "outputs": [],
   "source": [
    "#Seleccion de columanas para ML\n",
    "df_ml = df_ml[['Temp_pro_ac','RAD_pro_ac', 'Preci_pro_ac','HR_pro_ac','GDD_pro_ac','HW','Translucidez']]"
   ]
  },
  {
   "cell_type": "code",
   "execution_count": 72,
   "metadata": {},
   "outputs": [
    {
     "data": {
      "text/html": [
       "<div>\n",
       "<style scoped>\n",
       "    .dataframe tbody tr th:only-of-type {\n",
       "        vertical-align: middle;\n",
       "    }\n",
       "\n",
       "    .dataframe tbody tr th {\n",
       "        vertical-align: top;\n",
       "    }\n",
       "\n",
       "    .dataframe thead th {\n",
       "        text-align: right;\n",
       "    }\n",
       "</style>\n",
       "<table border=\"1\" class=\"dataframe\">\n",
       "  <thead>\n",
       "    <tr style=\"text-align: right;\">\n",
       "      <th></th>\n",
       "      <th>Temp_pro_ac</th>\n",
       "      <th>RAD_pro_ac</th>\n",
       "      <th>Preci_pro_ac</th>\n",
       "      <th>HR_pro_ac</th>\n",
       "      <th>GDD_pro_ac</th>\n",
       "      <th>HW</th>\n",
       "      <th>Translucidez</th>\n",
       "    </tr>\n",
       "  </thead>\n",
       "  <tbody>\n",
       "    <tr>\n",
       "      <th>2023-04-09</th>\n",
       "      <td>501.734204</td>\n",
       "      <td>337.038076</td>\n",
       "      <td>367.302857</td>\n",
       "      <td>1173.644167</td>\n",
       "      <td>211.112143</td>\n",
       "      <td>0.000000</td>\n",
       "      <td>0.0</td>\n",
       "    </tr>\n",
       "    <tr>\n",
       "      <th>2023-04-16</th>\n",
       "      <td>500.870514</td>\n",
       "      <td>341.620459</td>\n",
       "      <td>352.217143</td>\n",
       "      <td>1212.732083</td>\n",
       "      <td>210.043571</td>\n",
       "      <td>0.096353</td>\n",
       "      <td>0.0</td>\n",
       "    </tr>\n",
       "    <tr>\n",
       "      <th>2023-04-23</th>\n",
       "      <td>500.966466</td>\n",
       "      <td>342.745537</td>\n",
       "      <td>341.874286</td>\n",
       "      <td>926.007500</td>\n",
       "      <td>208.684286</td>\n",
       "      <td>0.000000</td>\n",
       "      <td>0.0</td>\n",
       "    </tr>\n",
       "    <tr>\n",
       "      <th>2023-04-30</th>\n",
       "      <td>501.512895</td>\n",
       "      <td>348.771166</td>\n",
       "      <td>325.064762</td>\n",
       "      <td>1004.468333</td>\n",
       "      <td>208.577976</td>\n",
       "      <td>0.690456</td>\n",
       "      <td>0.0</td>\n",
       "    </tr>\n",
       "    <tr>\n",
       "      <th>2023-05-07</th>\n",
       "      <td>502.393728</td>\n",
       "      <td>351.211564</td>\n",
       "      <td>298.064762</td>\n",
       "      <td>1080.945833</td>\n",
       "      <td>208.590833</td>\n",
       "      <td>0.356519</td>\n",
       "      <td>NaN</td>\n",
       "    </tr>\n",
       "    <tr>\n",
       "      <th>2023-05-14</th>\n",
       "      <td>503.684562</td>\n",
       "      <td>353.515589</td>\n",
       "      <td>290.293333</td>\n",
       "      <td>1162.594583</td>\n",
       "      <td>209.024405</td>\n",
       "      <td>0.739986</td>\n",
       "      <td>NaN</td>\n",
       "    </tr>\n",
       "    <tr>\n",
       "      <th>2023-05-21</th>\n",
       "      <td>505.328014</td>\n",
       "      <td>356.894764</td>\n",
       "      <td>285.521905</td>\n",
       "      <td>1169.267500</td>\n",
       "      <td>208.883690</td>\n",
       "      <td>1.384696</td>\n",
       "      <td>NaN</td>\n",
       "    </tr>\n",
       "  </tbody>\n",
       "</table>\n",
       "</div>"
      ],
      "text/plain": [
       "            Temp_pro_ac  RAD_pro_ac  Preci_pro_ac    HR_pro_ac  GDD_pro_ac  \\\n",
       "2023-04-09   501.734204  337.038076    367.302857  1173.644167  211.112143   \n",
       "2023-04-16   500.870514  341.620459    352.217143  1212.732083  210.043571   \n",
       "2023-04-23   500.966466  342.745537    341.874286   926.007500  208.684286   \n",
       "2023-04-30   501.512895  348.771166    325.064762  1004.468333  208.577976   \n",
       "2023-05-07   502.393728  351.211564    298.064762  1080.945833  208.590833   \n",
       "2023-05-14   503.684562  353.515589    290.293333  1162.594583  209.024405   \n",
       "2023-05-21   505.328014  356.894764    285.521905  1169.267500  208.883690   \n",
       "\n",
       "                  HW  Translucidez  \n",
       "2023-04-09  0.000000           0.0  \n",
       "2023-04-16  0.096353           0.0  \n",
       "2023-04-23  0.000000           0.0  \n",
       "2023-04-30  0.690456           0.0  \n",
       "2023-05-07  0.356519           NaN  \n",
       "2023-05-14  0.739986           NaN  \n",
       "2023-05-21  1.384696           NaN  "
      ]
     },
     "execution_count": 72,
     "metadata": {},
     "output_type": "execute_result"
    }
   ],
   "source": [
    "df_ml.tail(7)"
   ]
  },
  {
   "attachments": {},
   "cell_type": "markdown",
   "metadata": {},
   "source": [
    "### Modelos de prediccion"
   ]
  },
  {
   "cell_type": "code",
   "execution_count": 73,
   "metadata": {},
   "outputs": [],
   "source": [
    "#Dividiendo entre test y train\n",
    "df_train = df_ml.loc[df_ml.index[0].date(): df_ml.tail(5).index[0]: ]\n",
    "df_test = df_ml.loc[df_ml.tail(4).index[0]: df_ml.tail(4).index[0]: ]\n",
    "\n",
    "# df para predecir \n",
    "\n",
    "df_pred = df_ml.loc[df_ml.index[0].date(): df_ml.tail(4).index[0]: ]\n",
    "\n",
    "X_train_pred = df_pred.iloc[:, :-1]\n",
    "Y_train_pred= df_pred.iloc[:, -1]\n",
    "df_pred  = df_ml.loc[df_ml.tail(3).index[0]: df_ml.tail(4).index[3]: ]\n",
    "df_pred = df_pred.iloc[:, :-1]"
   ]
  },
  {
   "cell_type": "code",
   "execution_count": 74,
   "metadata": {},
   "outputs": [
    {
     "data": {
      "text/html": [
       "<div>\n",
       "<style scoped>\n",
       "    .dataframe tbody tr th:only-of-type {\n",
       "        vertical-align: middle;\n",
       "    }\n",
       "\n",
       "    .dataframe tbody tr th {\n",
       "        vertical-align: top;\n",
       "    }\n",
       "\n",
       "    .dataframe thead th {\n",
       "        text-align: right;\n",
       "    }\n",
       "</style>\n",
       "<table border=\"1\" class=\"dataframe\">\n",
       "  <thead>\n",
       "    <tr style=\"text-align: right;\">\n",
       "      <th></th>\n",
       "      <th>Temp_pro_ac</th>\n",
       "      <th>RAD_pro_ac</th>\n",
       "      <th>Preci_pro_ac</th>\n",
       "      <th>HR_pro_ac</th>\n",
       "      <th>GDD_pro_ac</th>\n",
       "      <th>HW</th>\n",
       "    </tr>\n",
       "  </thead>\n",
       "  <tbody>\n",
       "    <tr>\n",
       "      <th>2023-05-07</th>\n",
       "      <td>502.393728</td>\n",
       "      <td>351.211564</td>\n",
       "      <td>298.064762</td>\n",
       "      <td>1080.945833</td>\n",
       "      <td>208.590833</td>\n",
       "      <td>0.356519</td>\n",
       "    </tr>\n",
       "    <tr>\n",
       "      <th>2023-05-14</th>\n",
       "      <td>503.684562</td>\n",
       "      <td>353.515589</td>\n",
       "      <td>290.293333</td>\n",
       "      <td>1162.594583</td>\n",
       "      <td>209.024405</td>\n",
       "      <td>0.739986</td>\n",
       "    </tr>\n",
       "    <tr>\n",
       "      <th>2023-05-21</th>\n",
       "      <td>505.328014</td>\n",
       "      <td>356.894764</td>\n",
       "      <td>285.521905</td>\n",
       "      <td>1169.267500</td>\n",
       "      <td>208.883690</td>\n",
       "      <td>1.384696</td>\n",
       "    </tr>\n",
       "  </tbody>\n",
       "</table>\n",
       "</div>"
      ],
      "text/plain": [
       "            Temp_pro_ac  RAD_pro_ac  Preci_pro_ac    HR_pro_ac  GDD_pro_ac  \\\n",
       "2023-05-07   502.393728  351.211564    298.064762  1080.945833  208.590833   \n",
       "2023-05-14   503.684562  353.515589    290.293333  1162.594583  209.024405   \n",
       "2023-05-21   505.328014  356.894764    285.521905  1169.267500  208.883690   \n",
       "\n",
       "                  HW  \n",
       "2023-05-07  0.356519  \n",
       "2023-05-14  0.739986  \n",
       "2023-05-21  1.384696  "
      ]
     },
     "execution_count": 74,
     "metadata": {},
     "output_type": "execute_result"
    }
   ],
   "source": [
    "df_pred"
   ]
  },
  {
   "cell_type": "code",
   "execution_count": 77,
   "metadata": {},
   "outputs": [],
   "source": [
    "#divide the df\n",
    "X_train = df_train.iloc[:, :-1]\n",
    "Y_train = df_train.iloc[:, -1]\n",
    "X_test = df_test .iloc[:, :-1]\n",
    "y_test_ori = df_test .iloc[:, -1]"
   ]
  },
  {
   "cell_type": "code",
   "execution_count": 78,
   "metadata": {},
   "outputs": [],
   "source": [
    "# Clase de prueba de modelos\n",
    "Pred = ts_mod.Modelos(X_train, Y_train, X_test, y_test_ori)\n",
    "df, ts = Pred.eval_modelos()"
   ]
  },
  {
   "cell_type": "code",
   "execution_count": 79,
   "metadata": {},
   "outputs": [
    {
     "data": {
      "text/html": [
       "<div>\n",
       "<style scoped>\n",
       "    .dataframe tbody tr th:only-of-type {\n",
       "        vertical-align: middle;\n",
       "    }\n",
       "\n",
       "    .dataframe tbody tr th {\n",
       "        vertical-align: top;\n",
       "    }\n",
       "\n",
       "    .dataframe thead th {\n",
       "        text-align: right;\n",
       "    }\n",
       "</style>\n",
       "<table border=\"1\" class=\"dataframe\">\n",
       "  <thead>\n",
       "    <tr style=\"text-align: right;\">\n",
       "      <th></th>\n",
       "      <th>MAE</th>\n",
       "      <th>MSE</th>\n",
       "      <th>RMSE</th>\n",
       "      <th>r2</th>\n",
       "    </tr>\n",
       "  </thead>\n",
       "  <tbody>\n",
       "    <tr>\n",
       "      <th>LinearRegression()</th>\n",
       "      <td>0.442117</td>\n",
       "      <td>0.195467</td>\n",
       "      <td>0.442117</td>\n",
       "      <td>NaN</td>\n",
       "    </tr>\n",
       "    <tr>\n",
       "      <th>RandomForestRegressor()</th>\n",
       "      <td>0.826133</td>\n",
       "      <td>0.682495</td>\n",
       "      <td>0.826133</td>\n",
       "      <td>NaN</td>\n",
       "    </tr>\n",
       "    <tr>\n",
       "      <th>SVR()</th>\n",
       "      <td>0.176050</td>\n",
       "      <td>0.030994</td>\n",
       "      <td>0.176050</td>\n",
       "      <td>NaN</td>\n",
       "    </tr>\n",
       "    <tr>\n",
       "      <th>GradientBoostingRegressor()</th>\n",
       "      <td>0.922383</td>\n",
       "      <td>0.850790</td>\n",
       "      <td>0.922383</td>\n",
       "      <td>NaN</td>\n",
       "    </tr>\n",
       "    <tr>\n",
       "      <th>BayesianRidge()</th>\n",
       "      <td>0.380614</td>\n",
       "      <td>0.144867</td>\n",
       "      <td>0.380614</td>\n",
       "      <td>NaN</td>\n",
       "    </tr>\n",
       "  </tbody>\n",
       "</table>\n",
       "</div>"
      ],
      "text/plain": [
       "                                  MAE       MSE      RMSE  r2\n",
       "LinearRegression()           0.442117  0.195467  0.442117 NaN\n",
       "RandomForestRegressor()      0.826133  0.682495  0.826133 NaN\n",
       "SVR()                        0.176050  0.030994  0.176050 NaN\n",
       "GradientBoostingRegressor()  0.922383  0.850790  0.922383 NaN\n",
       "BayesianRidge()              0.380614  0.144867  0.380614 NaN"
      ]
     },
     "execution_count": 79,
     "metadata": {},
     "output_type": "execute_result"
    }
   ],
   "source": [
    "#Resultado\n",
    "df"
   ]
  },
  {
   "cell_type": "code",
   "execution_count": 80,
   "metadata": {},
   "outputs": [
    {
     "data": {
      "text/html": [
       "<div>\n",
       "<style scoped>\n",
       "    .dataframe tbody tr th:only-of-type {\n",
       "        vertical-align: middle;\n",
       "    }\n",
       "\n",
       "    .dataframe tbody tr th {\n",
       "        vertical-align: top;\n",
       "    }\n",
       "\n",
       "    .dataframe thead th {\n",
       "        text-align: right;\n",
       "    }\n",
       "</style>\n",
       "<table border=\"1\" class=\"dataframe\">\n",
       "  <thead>\n",
       "    <tr style=\"text-align: right;\">\n",
       "      <th></th>\n",
       "      <th>LinearRegression()</th>\n",
       "      <th>RandomForestRegressor()</th>\n",
       "      <th>SVR()</th>\n",
       "      <th>GradientBoostingRegressor()</th>\n",
       "      <th>BayesianRidge()</th>\n",
       "    </tr>\n",
       "  </thead>\n",
       "  <tbody>\n",
       "    <tr>\n",
       "      <th>0</th>\n",
       "      <td>0.442117</td>\n",
       "      <td>0.826133</td>\n",
       "      <td>0.17605</td>\n",
       "      <td>0.922383</td>\n",
       "      <td>0.380614</td>\n",
       "    </tr>\n",
       "  </tbody>\n",
       "</table>\n",
       "</div>"
      ],
      "text/plain": [
       "   LinearRegression()  RandomForestRegressor()    SVR()  \\\n",
       "0            0.442117                 0.826133  0.17605   \n",
       "\n",
       "   GradientBoostingRegressor()  BayesianRidge()  \n",
       "0                     0.922383         0.380614  "
      ]
     },
     "execution_count": 80,
     "metadata": {},
     "output_type": "execute_result"
    }
   ],
   "source": [
    "ts"
   ]
  },
  {
   "cell_type": "code",
   "execution_count": 81,
   "metadata": {},
   "outputs": [
    {
     "data": {
      "text/plain": [
       "'SVR()'"
      ]
     },
     "execution_count": 81,
     "metadata": {},
     "output_type": "execute_result"
    }
   ],
   "source": [
    "#Extrae el mejor modelo\n",
    "mejor_mod = minor_pos = df['MAE'].idxmin()\n",
    "mejor_mod"
   ]
  },
  {
   "cell_type": "code",
   "execution_count": 82,
   "metadata": {},
   "outputs": [
    {
     "data": {
      "text/html": [
       "<style>#sk-container-id-1 {color: black;background-color: white;}#sk-container-id-1 pre{padding: 0;}#sk-container-id-1 div.sk-toggleable {background-color: white;}#sk-container-id-1 label.sk-toggleable__label {cursor: pointer;display: block;width: 100%;margin-bottom: 0;padding: 0.3em;box-sizing: border-box;text-align: center;}#sk-container-id-1 label.sk-toggleable__label-arrow:before {content: \"▸\";float: left;margin-right: 0.25em;color: #696969;}#sk-container-id-1 label.sk-toggleable__label-arrow:hover:before {color: black;}#sk-container-id-1 div.sk-estimator:hover label.sk-toggleable__label-arrow:before {color: black;}#sk-container-id-1 div.sk-toggleable__content {max-height: 0;max-width: 0;overflow: hidden;text-align: left;background-color: #f0f8ff;}#sk-container-id-1 div.sk-toggleable__content pre {margin: 0.2em;color: black;border-radius: 0.25em;background-color: #f0f8ff;}#sk-container-id-1 input.sk-toggleable__control:checked~div.sk-toggleable__content {max-height: 200px;max-width: 100%;overflow: auto;}#sk-container-id-1 input.sk-toggleable__control:checked~label.sk-toggleable__label-arrow:before {content: \"▾\";}#sk-container-id-1 div.sk-estimator input.sk-toggleable__control:checked~label.sk-toggleable__label {background-color: #d4ebff;}#sk-container-id-1 div.sk-label input.sk-toggleable__control:checked~label.sk-toggleable__label {background-color: #d4ebff;}#sk-container-id-1 input.sk-hidden--visually {border: 0;clip: rect(1px 1px 1px 1px);clip: rect(1px, 1px, 1px, 1px);height: 1px;margin: -1px;overflow: hidden;padding: 0;position: absolute;width: 1px;}#sk-container-id-1 div.sk-estimator {font-family: monospace;background-color: #f0f8ff;border: 1px dotted black;border-radius: 0.25em;box-sizing: border-box;margin-bottom: 0.5em;}#sk-container-id-1 div.sk-estimator:hover {background-color: #d4ebff;}#sk-container-id-1 div.sk-parallel-item::after {content: \"\";width: 100%;border-bottom: 1px solid gray;flex-grow: 1;}#sk-container-id-1 div.sk-label:hover label.sk-toggleable__label {background-color: #d4ebff;}#sk-container-id-1 div.sk-serial::before {content: \"\";position: absolute;border-left: 1px solid gray;box-sizing: border-box;top: 0;bottom: 0;left: 50%;z-index: 0;}#sk-container-id-1 div.sk-serial {display: flex;flex-direction: column;align-items: center;background-color: white;padding-right: 0.2em;padding-left: 0.2em;position: relative;}#sk-container-id-1 div.sk-item {position: relative;z-index: 1;}#sk-container-id-1 div.sk-parallel {display: flex;align-items: stretch;justify-content: center;background-color: white;position: relative;}#sk-container-id-1 div.sk-item::before, #sk-container-id-1 div.sk-parallel-item::before {content: \"\";position: absolute;border-left: 1px solid gray;box-sizing: border-box;top: 0;bottom: 0;left: 50%;z-index: -1;}#sk-container-id-1 div.sk-parallel-item {display: flex;flex-direction: column;z-index: 1;position: relative;background-color: white;}#sk-container-id-1 div.sk-parallel-item:first-child::after {align-self: flex-end;width: 50%;}#sk-container-id-1 div.sk-parallel-item:last-child::after {align-self: flex-start;width: 50%;}#sk-container-id-1 div.sk-parallel-item:only-child::after {width: 0;}#sk-container-id-1 div.sk-dashed-wrapped {border: 1px dashed gray;margin: 0 0.4em 0.5em 0.4em;box-sizing: border-box;padding-bottom: 0.4em;background-color: white;}#sk-container-id-1 div.sk-label label {font-family: monospace;font-weight: bold;display: inline-block;line-height: 1.2em;}#sk-container-id-1 div.sk-label-container {text-align: center;}#sk-container-id-1 div.sk-container {/* jupyter's `normalize.less` sets `[hidden] { display: none; }` but bootstrap.min.css set `[hidden] { display: none !important; }` so we also need the `!important` here to be able to override the default hidden behavior on the sphinx rendered scikit-learn.org. See: https://github.com/scikit-learn/scikit-learn/issues/21755 */display: inline-block !important;position: relative;}#sk-container-id-1 div.sk-text-repr-fallback {display: none;}</style><div id=\"sk-container-id-1\" class=\"sk-top-container\"><div class=\"sk-text-repr-fallback\"><pre>SVR()</pre><b>In a Jupyter environment, please rerun this cell to show the HTML representation or trust the notebook. <br />On GitHub, the HTML representation is unable to render, please try loading this page with nbviewer.org.</b></div><div class=\"sk-container\" hidden><div class=\"sk-item\"><div class=\"sk-estimator sk-toggleable\"><input class=\"sk-toggleable__control sk-hidden--visually\" id=\"sk-estimator-id-1\" type=\"checkbox\" checked><label for=\"sk-estimator-id-1\" class=\"sk-toggleable__label sk-toggleable__label-arrow\">SVR</label><div class=\"sk-toggleable__content\"><pre>SVR()</pre></div></div></div></div></div>"
      ],
      "text/plain": [
       "SVR()"
      ]
     },
     "execution_count": 82,
     "metadata": {},
     "output_type": "execute_result"
    }
   ],
   "source": [
    "# Alimentar clase con mejor modelo\n",
    "model = eval(str(mejor_mod))\n",
    "model.fit( X_train_pred, Y_train_pred)\n"
   ]
  },
  {
   "cell_type": "code",
   "execution_count": 83,
   "metadata": {},
   "outputs": [],
   "source": [
    "#prediccion \n",
    "prediccion = model.predict(df_pred )\n",
    "prediccion [prediccion < 0] = 0\n",
    "df_pred[\"prediccion\"] = prediccion\n",
    "df_pred[\"modelo\"] = mejor_mod\n",
    "#df_predicciones_HW_ML = df_predicciones_HW_ML.append(df_pred)\n",
    "#agregando la predicción a la serie de tiempo vacía\n",
    "#time_serie_1 = time_serie_1.append(pred_calibrado_p[0:1])\n",
    "#fechas = pd.DatetimeIndex(df_predicciones_HW_ML.index,)\n",
    "#ts_pred_HW_ML = pd.Series( df_predicciones_HW_ML[\"prediccion\"].values, index = fechas)"
   ]
  },
  {
   "cell_type": "code",
   "execution_count": 84,
   "metadata": {},
   "outputs": [
    {
     "data": {
      "text/html": [
       "<div>\n",
       "<style scoped>\n",
       "    .dataframe tbody tr th:only-of-type {\n",
       "        vertical-align: middle;\n",
       "    }\n",
       "\n",
       "    .dataframe tbody tr th {\n",
       "        vertical-align: top;\n",
       "    }\n",
       "\n",
       "    .dataframe thead th {\n",
       "        text-align: right;\n",
       "    }\n",
       "</style>\n",
       "<table border=\"1\" class=\"dataframe\">\n",
       "  <thead>\n",
       "    <tr style=\"text-align: right;\">\n",
       "      <th></th>\n",
       "      <th>Temp_pro_ac</th>\n",
       "      <th>RAD_pro_ac</th>\n",
       "      <th>Preci_pro_ac</th>\n",
       "      <th>HR_pro_ac</th>\n",
       "      <th>GDD_pro_ac</th>\n",
       "      <th>HW</th>\n",
       "      <th>prediccion</th>\n",
       "      <th>modelo</th>\n",
       "    </tr>\n",
       "  </thead>\n",
       "  <tbody>\n",
       "    <tr>\n",
       "      <th>2023-05-07</th>\n",
       "      <td>502.393728</td>\n",
       "      <td>351.211564</td>\n",
       "      <td>298.064762</td>\n",
       "      <td>1080.945833</td>\n",
       "      <td>208.590833</td>\n",
       "      <td>0.356519</td>\n",
       "      <td>0.575264</td>\n",
       "      <td>SVR()</td>\n",
       "    </tr>\n",
       "    <tr>\n",
       "      <th>2023-05-14</th>\n",
       "      <td>503.684562</td>\n",
       "      <td>353.515589</td>\n",
       "      <td>290.293333</td>\n",
       "      <td>1162.594583</td>\n",
       "      <td>209.024405</td>\n",
       "      <td>0.739986</td>\n",
       "      <td>0.885668</td>\n",
       "      <td>SVR()</td>\n",
       "    </tr>\n",
       "    <tr>\n",
       "      <th>2023-05-21</th>\n",
       "      <td>505.328014</td>\n",
       "      <td>356.894764</td>\n",
       "      <td>285.521905</td>\n",
       "      <td>1169.267500</td>\n",
       "      <td>208.883690</td>\n",
       "      <td>1.384696</td>\n",
       "      <td>0.958328</td>\n",
       "      <td>SVR()</td>\n",
       "    </tr>\n",
       "  </tbody>\n",
       "</table>\n",
       "</div>"
      ],
      "text/plain": [
       "            Temp_pro_ac  RAD_pro_ac  Preci_pro_ac    HR_pro_ac  GDD_pro_ac  \\\n",
       "2023-05-07   502.393728  351.211564    298.064762  1080.945833  208.590833   \n",
       "2023-05-14   503.684562  353.515589    290.293333  1162.594583  209.024405   \n",
       "2023-05-21   505.328014  356.894764    285.521905  1169.267500  208.883690   \n",
       "\n",
       "                  HW  prediccion modelo  \n",
       "2023-05-07  0.356519    0.575264  SVR()  \n",
       "2023-05-14  0.739986    0.885668  SVR()  \n",
       "2023-05-21  1.384696    0.958328  SVR()  "
      ]
     },
     "execution_count": 84,
     "metadata": {},
     "output_type": "execute_result"
    }
   ],
   "source": [
    "df_pred"
   ]
  },
  {
   "cell_type": "code",
   "execution_count": null,
   "metadata": {},
   "outputs": [],
   "source": [
    "\"\"\"df_predicciones_HW_ML = pd.DataFrame()\n",
    "\n",
    "fecha_inicio = datetime(2023,1,7)\n",
    "fecha_final = datetime(2023,4,16)\n",
    "#crear time serie vacío\n",
    "time_serie_1= pd.Series()\n",
    "filtro = fecha_inicio\n",
    "i = 1\n",
    "\n",
    "while filtro  < (fecha_final - timedelta(weeks=1)):\n",
    "    \n",
    "    filtro = fecha_inicio + timedelta(weeks=i)\n",
    "    filtro_sem = filtro + timedelta(weeks=1)\n",
    "    filtro_pred = filtro_sem + timedelta(weeks=3)\n",
    "    i = i +1\n",
    "    #print (\"inicio: \", filtro, \"fin:\", filtro_sem)\n",
    "\n",
    "    df_train = df_ml.loc[df_ml.index[0].date(): filtro : ]\n",
    "    df_test = df_ml.loc[(df_ml.index > filtro) & (df_ml.index <  filtro_sem) ]\n",
    "    df_pred = df_ml.loc[(df_ml.index > filtro_sem) & (df_ml.index < filtro_pred ) ]\n",
    "    df_pred = df_pred .iloc[:, :-1]\n",
    "    \n",
    "    df_train = df_train.dropna()\n",
    "    #divide the df\n",
    "    X_train = df_train.iloc[:, :-1]\n",
    "    Y_train = df_train.iloc[:, -1]\n",
    "    X_test = df_test .iloc[:, :-1]\n",
    "    y_test_ori = df_test .iloc[:, -1]\n",
    "    \n",
    "    \n",
    "    Pred = ts_mod.Modelos(X_train, Y_train, X_test, y_test_ori)\n",
    "    df, ts = Pred.eval_modelos()\n",
    "    #Extrae el mejor modelo\n",
    "    mejor_mod = minor_pos = df['MSE'].idxmin()\n",
    "    #creo clase con el mejor modelo\n",
    "    model = eval(str(mejor_mod))\n",
    "    \n",
    "    #Se toma todo el df\n",
    "    df_train_pred = df_ml.loc[df_ml.index[0].date(): filtro_sem : ]\n",
    "    df_train_pred = df_train_pred.dropna()\n",
    "    X_train_pred = df_train_pred.iloc[:, :-1]\n",
    "    Y_train_pred= df_train_pred.iloc[:, -1]\n",
    "    #fit el mejor modelo\n",
    "    model.fit( X_train_pred, Y_train_pred)\n",
    "    #prediccion \n",
    "    prediccion = model.predict(df_pred)\n",
    "    prediccion [prediccion < 0] = 0\n",
    "    df_pred[\"prediccion\"] = prediccion\n",
    "    df_pred[\"modelo\"] = mejor_mod\n",
    "    df_pred[\"Semana_Prediccion\"] = filtro.isocalendar().week\n",
    "    df_pred[\"Semana\"] = df_pred.index.isocalendar().week\n",
    "    df_predicciones_HW_ML = df_predicciones_HW_ML.append(df_pred)\n",
    "    #agregando la predicción a la serie de tiempo vacía\n",
    "    #time_serie_1 = time_serie_1.append(pred_calibrado_p[0:1])\n",
    "    fechas = pd.DatetimeIndex(df_predicciones_HW_ML.index,)\n",
    "    ts_pred_HW_ML = pd.Series( df_predicciones_HW_ML[\"prediccion\"].values, index = fechas)\n",
    "     #Agregando Tranlucidez\n",
    "    df_predicciones_HW_ML [\"Translucidez\"] = ts_trans\n",
    "    df_predicciones_HW_ML\"\"\""
   ]
  },
  {
   "cell_type": "code",
   "execution_count": 85,
   "metadata": {},
   "outputs": [],
   "source": [
    "df_pred[\"Semana_Prediccion\"] = datetime.now().isocalendar().week-1"
   ]
  },
  {
   "cell_type": "code",
   "execution_count": 86,
   "metadata": {},
   "outputs": [
    {
     "data": {
      "text/html": [
       "<div>\n",
       "<style scoped>\n",
       "    .dataframe tbody tr th:only-of-type {\n",
       "        vertical-align: middle;\n",
       "    }\n",
       "\n",
       "    .dataframe tbody tr th {\n",
       "        vertical-align: top;\n",
       "    }\n",
       "\n",
       "    .dataframe thead th {\n",
       "        text-align: right;\n",
       "    }\n",
       "</style>\n",
       "<table border=\"1\" class=\"dataframe\">\n",
       "  <thead>\n",
       "    <tr style=\"text-align: right;\">\n",
       "      <th></th>\n",
       "      <th>Temp_pro_ac</th>\n",
       "      <th>RAD_pro_ac</th>\n",
       "      <th>Preci_pro_ac</th>\n",
       "      <th>HR_pro_ac</th>\n",
       "      <th>GDD_pro_ac</th>\n",
       "      <th>HW</th>\n",
       "      <th>prediccion</th>\n",
       "      <th>modelo</th>\n",
       "      <th>Semana_Prediccion</th>\n",
       "    </tr>\n",
       "  </thead>\n",
       "  <tbody>\n",
       "    <tr>\n",
       "      <th>2023-05-07</th>\n",
       "      <td>502.393728</td>\n",
       "      <td>351.211564</td>\n",
       "      <td>298.064762</td>\n",
       "      <td>1080.945833</td>\n",
       "      <td>208.590833</td>\n",
       "      <td>0.356519</td>\n",
       "      <td>0.575264</td>\n",
       "      <td>SVR()</td>\n",
       "      <td>17</td>\n",
       "    </tr>\n",
       "    <tr>\n",
       "      <th>2023-05-14</th>\n",
       "      <td>503.684562</td>\n",
       "      <td>353.515589</td>\n",
       "      <td>290.293333</td>\n",
       "      <td>1162.594583</td>\n",
       "      <td>209.024405</td>\n",
       "      <td>0.739986</td>\n",
       "      <td>0.885668</td>\n",
       "      <td>SVR()</td>\n",
       "      <td>17</td>\n",
       "    </tr>\n",
       "    <tr>\n",
       "      <th>2023-05-21</th>\n",
       "      <td>505.328014</td>\n",
       "      <td>356.894764</td>\n",
       "      <td>285.521905</td>\n",
       "      <td>1169.267500</td>\n",
       "      <td>208.883690</td>\n",
       "      <td>1.384696</td>\n",
       "      <td>0.958328</td>\n",
       "      <td>SVR()</td>\n",
       "      <td>17</td>\n",
       "    </tr>\n",
       "  </tbody>\n",
       "</table>\n",
       "</div>"
      ],
      "text/plain": [
       "            Temp_pro_ac  RAD_pro_ac  Preci_pro_ac    HR_pro_ac  GDD_pro_ac  \\\n",
       "2023-05-07   502.393728  351.211564    298.064762  1080.945833  208.590833   \n",
       "2023-05-14   503.684562  353.515589    290.293333  1162.594583  209.024405   \n",
       "2023-05-21   505.328014  356.894764    285.521905  1169.267500  208.883690   \n",
       "\n",
       "                  HW  prediccion modelo  Semana_Prediccion  \n",
       "2023-05-07  0.356519    0.575264  SVR()                 17  \n",
       "2023-05-14  0.739986    0.885668  SVR()                 17  \n",
       "2023-05-21  1.384696    0.958328  SVR()                 17  "
      ]
     },
     "execution_count": 86,
     "metadata": {},
     "output_type": "execute_result"
    }
   ],
   "source": [
    "# Predicción de semana \n",
    "#df_pred[\"Translucidez\"] = ts_trans\n",
    "df_pred"
   ]
  },
  {
   "cell_type": "code",
   "execution_count": 87,
   "metadata": {},
   "outputs": [],
   "source": [
    "#Respaldo de prediccion semanal \n",
    "df_pred.to_csv(\"predicion_sem\" + str(datetime.now().isocalendar().week) + \".csv\")\n"
   ]
  },
  {
   "cell_type": "code",
   "execution_count": 88,
   "metadata": {},
   "outputs": [],
   "source": [
    "df_pred_pdf = df_pred[[\"prediccion\",]]"
   ]
  },
  {
   "cell_type": "code",
   "execution_count": 89,
   "metadata": {},
   "outputs": [],
   "source": [
    "df_pred_pdf[\"Semana\"] = df_pred_pdf.index.week\n"
   ]
  },
  {
   "cell_type": "code",
   "execution_count": 90,
   "metadata": {},
   "outputs": [],
   "source": [
    "df_pred_pdf[\"prediccion\"] = df_pred_pdf[\"prediccion\"].round(2)"
   ]
  },
  {
   "cell_type": "code",
   "execution_count": 91,
   "metadata": {},
   "outputs": [
    {
     "data": {
      "text/html": [
       "<div>\n",
       "<style scoped>\n",
       "    .dataframe tbody tr th:only-of-type {\n",
       "        vertical-align: middle;\n",
       "    }\n",
       "\n",
       "    .dataframe tbody tr th {\n",
       "        vertical-align: top;\n",
       "    }\n",
       "\n",
       "    .dataframe thead th {\n",
       "        text-align: right;\n",
       "    }\n",
       "</style>\n",
       "<table border=\"1\" class=\"dataframe\">\n",
       "  <thead>\n",
       "    <tr style=\"text-align: right;\">\n",
       "      <th></th>\n",
       "      <th>prediccion</th>\n",
       "      <th>Semana</th>\n",
       "    </tr>\n",
       "  </thead>\n",
       "  <tbody>\n",
       "    <tr>\n",
       "      <th>2023-05-07</th>\n",
       "      <td>0.58</td>\n",
       "      <td>18</td>\n",
       "    </tr>\n",
       "    <tr>\n",
       "      <th>2023-05-14</th>\n",
       "      <td>0.89</td>\n",
       "      <td>19</td>\n",
       "    </tr>\n",
       "    <tr>\n",
       "      <th>2023-05-21</th>\n",
       "      <td>0.96</td>\n",
       "      <td>20</td>\n",
       "    </tr>\n",
       "  </tbody>\n",
       "</table>\n",
       "</div>"
      ],
      "text/plain": [
       "            prediccion  Semana\n",
       "2023-05-07        0.58      18\n",
       "2023-05-14        0.89      19\n",
       "2023-05-21        0.96      20"
      ]
     },
     "execution_count": 91,
     "metadata": {},
     "output_type": "execute_result"
    }
   ],
   "source": [
    "df_pred_pdf"
   ]
  },
  {
   "attachments": {},
   "cell_type": "markdown",
   "metadata": {},
   "source": [
    "### Prediccion Semanal Visualización"
   ]
  },
  {
   "cell_type": "code",
   "execution_count": 92,
   "metadata": {},
   "outputs": [
    {
     "name": "stdout",
     "output_type": "stream",
     "text": [
      "faltan:  12  fechas\n",
      "Total de ts:  15\n",
      "Inicia:  2023-05-07\n",
      "Fin:  2023-05-21\n"
     ]
    }
   ],
   "source": [
    "df_pred[\"Fecha\"] = df_pred.index\n",
    "ts_pred = ts_mod.fechas_faltantes(df = df_pred, campo_fecha= \"Fecha\", campo_para_ts= \"prediccion\" )\n",
    "ts_pred = ts_pred.crear_ts()"
   ]
  },
  {
   "cell_type": "code",
   "execution_count": 93,
   "metadata": {},
   "outputs": [
    {
     "data": {
      "text/plain": [
       "fechas\n",
       "2023-05-07    0.575264\n",
       "2023-05-14    0.885668\n",
       "2023-05-21    0.958328\n",
       "Name: prediccion, dtype: float64"
      ]
     },
     "execution_count": 93,
     "metadata": {},
     "output_type": "execute_result"
    }
   ],
   "source": [
    "ts_pred = ts_pred.dropna()\n",
    "ts_pred"
   ]
  },
  {
   "cell_type": "code",
   "execution_count": 94,
   "metadata": {},
   "outputs": [
    {
     "data": {
      "image/png": "[encoded data removed]",
      "text/plain": [
       "<Figure size 864x432 with 1 Axes>"
      ]
     },
     "metadata": {
      "needs_background": "light"
     },
     "output_type": "display_data"
    }
   ],
   "source": [
    "# Graficamos las predicciones\n",
    "\n",
    "from matplotlib.pyplot import figure\n",
    "\n",
    "fig, ax  = plt.subplots(figsize=(12,6)) \n",
    "\n",
    "aux = plt.plot(ts_pred .index,ts_pred .values, label = 'Predicción', color='green')\n",
    "\n",
    "aux = plt.plot(ts_trans.index[-20:], ts_trans.values[-20:], label = \"Translucidez REAL\", color='blue' )\n",
    "\n",
    "aux = plt.scatter(ts_pred .index, ts_pred .values,color='green')\n",
    "\n",
    "aux = plt.scatter(ts_trans.index[-20:], ts_trans.values[-20:],  color='blue' )\n",
    "\n",
    "\n",
    "formato = mdates.DateFormatter(\"%W - %y\")\n",
    "\n",
    "ax.xaxis.set_major_formatter(formato)\n",
    "#ax.plot(df_BA_ts_sem _2022.index[df_BA_ts_sem _2022.index > \"01/01/2021\"], df_BA_ts_sem _2022.values[df_BA_ts_sem _2022.index > \"01/01/2021\"], label = \"Trasnslucidez 2021\", linewidth = 2)\n",
    "ax.legend(loc=\"upper left\")\n",
    "\n",
    "xticks = pd.date_range(ts_trans.index[-20:].min(),ts_pred.index.max(), freq='W')\n",
    "ax.set_xticks(xticks)\n",
    "ax = plt.xlabel(\"Semana\", size = 14)\n",
    "ax = plt.ylabel(\"% Translucidez\", size = 14)\n",
    "plt.xticks(rotation=45)\n",
    "aux = plt.legend(loc='center left', bbox_to_anchor=(1, 0.5))\n",
    "aux = plt.title(\"Predicción Translucidez - BA - Semana: \"+ str(ts_pred.index.min().date().isocalendar().week) , size = 24)\n",
    "aux = plt.legend(loc=0,)\n",
    "plt.savefig(\"Prediccion.png\")\n",
    "plt.show()\n",
    "plt.show()"
   ]
  },
  {
   "attachments": {},
   "cell_type": "markdown",
   "metadata": {},
   "source": [
    "### Revision de Predicciones"
   ]
  },
  {
   "cell_type": "code",
   "execution_count": 140,
   "metadata": {},
   "outputs": [],
   "source": [
    "#Importando base de datos historica de resultados\n",
    "\n",
    "df_prediccion_his= pd.read_csv(\"Prediccion_T_BA.csv\",)\n",
    "#df_prediccion_his = df_prediccion_his.rename(columns={\"Unnamed: 0\": \"Fecha\"})\n",
    "df_prediccion_his = df_prediccion_his.drop(\"Unnamed: 0\", axis=1)"
   ]
  },
  {
   "cell_type": "code",
   "execution_count": 141,
   "metadata": {},
   "outputs": [
    {
     "data": {
      "text/html": [
       "<div>\n",
       "<style scoped>\n",
       "    .dataframe tbody tr th:only-of-type {\n",
       "        vertical-align: middle;\n",
       "    }\n",
       "\n",
       "    .dataframe tbody tr th {\n",
       "        vertical-align: top;\n",
       "    }\n",
       "\n",
       "    .dataframe thead th {\n",
       "        text-align: right;\n",
       "    }\n",
       "</style>\n",
       "<table border=\"1\" class=\"dataframe\">\n",
       "  <thead>\n",
       "    <tr style=\"text-align: right;\">\n",
       "      <th></th>\n",
       "      <th>Fecha</th>\n",
       "      <th>Temp_pro_ac</th>\n",
       "      <th>RAD_pro_ac</th>\n",
       "      <th>Preci_pro_ac</th>\n",
       "      <th>HR_pro_ac</th>\n",
       "      <th>GDD_pro_ac</th>\n",
       "      <th>HW</th>\n",
       "      <th>prediccion</th>\n",
       "      <th>modelo</th>\n",
       "      <th>Semana_Prediccion</th>\n",
       "      <th>Semana</th>\n",
       "      <th>Sem_anticipadas</th>\n",
       "      <th>mse</th>\n",
       "      <th>rmse</th>\n",
       "      <th>re</th>\n",
       "      <th>mae</th>\n",
       "      <th>Translucidez</th>\n",
       "    </tr>\n",
       "  </thead>\n",
       "  <tbody>\n",
       "    <tr>\n",
       "      <th>33</th>\n",
       "      <td>2023-04-16</td>\n",
       "      <td>500.870514</td>\n",
       "      <td>341.620459</td>\n",
       "      <td>352.217143</td>\n",
       "      <td>1215.410833</td>\n",
       "      <td>210.043571</td>\n",
       "      <td>0.096353</td>\n",
       "      <td>0.013429</td>\n",
       "      <td>RandomForestRegressor()</td>\n",
       "      <td>12.0</td>\n",
       "      <td>15</td>\n",
       "      <td>3.0</td>\n",
       "      <td>0.000180</td>\n",
       "      <td>0.013429</td>\n",
       "      <td>100.0</td>\n",
       "      <td>0.013429</td>\n",
       "      <td>0.0</td>\n",
       "    </tr>\n",
       "    <tr>\n",
       "      <th>34</th>\n",
       "      <td>2023-04-16</td>\n",
       "      <td>500.870514</td>\n",
       "      <td>341.620459</td>\n",
       "      <td>352.217143</td>\n",
       "      <td>1215.410833</td>\n",
       "      <td>210.043571</td>\n",
       "      <td>0.096353</td>\n",
       "      <td>0.549164</td>\n",
       "      <td>SVR()</td>\n",
       "      <td>13.0</td>\n",
       "      <td>15</td>\n",
       "      <td>2.0</td>\n",
       "      <td>0.301581</td>\n",
       "      <td>0.549164</td>\n",
       "      <td>100.0</td>\n",
       "      <td>0.549164</td>\n",
       "      <td>0.0</td>\n",
       "    </tr>\n",
       "    <tr>\n",
       "      <th>35</th>\n",
       "      <td>2023-04-16</td>\n",
       "      <td>500.870514</td>\n",
       "      <td>341.620459</td>\n",
       "      <td>352.217143</td>\n",
       "      <td>1215.410833</td>\n",
       "      <td>210.043571</td>\n",
       "      <td>0.096353</td>\n",
       "      <td>0.008711</td>\n",
       "      <td>RandomForestRegressor()</td>\n",
       "      <td>14.0</td>\n",
       "      <td>15</td>\n",
       "      <td>1.0</td>\n",
       "      <td>0.000076</td>\n",
       "      <td>0.008711</td>\n",
       "      <td>100.0</td>\n",
       "      <td>0.008711</td>\n",
       "      <td>0.0</td>\n",
       "    </tr>\n",
       "    <tr>\n",
       "      <th>36</th>\n",
       "      <td>2023-04-23</td>\n",
       "      <td>500.966466</td>\n",
       "      <td>342.745537</td>\n",
       "      <td>341.874286</td>\n",
       "      <td>1004.468333</td>\n",
       "      <td>208.684286</td>\n",
       "      <td>0.000000</td>\n",
       "      <td>0.140130</td>\n",
       "      <td>RandomForestRegressor()</td>\n",
       "      <td>15.0</td>\n",
       "      <td>16</td>\n",
       "      <td>1.0</td>\n",
       "      <td>0.019637</td>\n",
       "      <td>0.140130</td>\n",
       "      <td>100.0</td>\n",
       "      <td>0.140130</td>\n",
       "      <td>0.0</td>\n",
       "    </tr>\n",
       "    <tr>\n",
       "      <th>37</th>\n",
       "      <td>2023-04-30</td>\n",
       "      <td>501.512895</td>\n",
       "      <td>348.771166</td>\n",
       "      <td>325.064762</td>\n",
       "      <td>1080.945833</td>\n",
       "      <td>208.577976</td>\n",
       "      <td>0.690456</td>\n",
       "      <td>0.622629</td>\n",
       "      <td>LinearRegression()</td>\n",
       "      <td>16.0</td>\n",
       "      <td>17</td>\n",
       "      <td>1.0</td>\n",
       "      <td>0.387667</td>\n",
       "      <td>0.622629</td>\n",
       "      <td>100.0</td>\n",
       "      <td>0.622629</td>\n",
       "      <td>0.0</td>\n",
       "    </tr>\n",
       "  </tbody>\n",
       "</table>\n",
       "</div>"
      ],
      "text/plain": [
       "        Fecha  Temp_pro_ac  RAD_pro_ac  Preci_pro_ac    HR_pro_ac  GDD_pro_ac  \\\n",
       "33 2023-04-16   500.870514  341.620459    352.217143  1215.410833  210.043571   \n",
       "34 2023-04-16   500.870514  341.620459    352.217143  1215.410833  210.043571   \n",
       "35 2023-04-16   500.870514  341.620459    352.217143  1215.410833  210.043571   \n",
       "36 2023-04-23   500.966466  342.745537    341.874286  1004.468333  208.684286   \n",
       "37 2023-04-30   501.512895  348.771166    325.064762  1080.945833  208.577976   \n",
       "\n",
       "          HW  prediccion                   modelo  Semana_Prediccion  Semana  \\\n",
       "33  0.096353    0.013429  RandomForestRegressor()               12.0      15   \n",
       "34  0.096353    0.549164                    SVR()               13.0      15   \n",
       "35  0.096353    0.008711  RandomForestRegressor()               14.0      15   \n",
       "36  0.000000    0.140130  RandomForestRegressor()               15.0      16   \n",
       "37  0.690456    0.622629       LinearRegression()               16.0      17   \n",
       "\n",
       "    Sem_anticipadas       mse      rmse     re       mae  Translucidez  \n",
       "33              3.0  0.000180  0.013429  100.0  0.013429           0.0  \n",
       "34              2.0  0.301581  0.549164  100.0  0.549164           0.0  \n",
       "35              1.0  0.000076  0.008711  100.0  0.008711           0.0  \n",
       "36              1.0  0.019637  0.140130  100.0  0.140130           0.0  \n",
       "37              1.0  0.387667  0.622629  100.0  0.622629           0.0  "
      ]
     },
     "execution_count": 141,
     "metadata": {},
     "output_type": "execute_result"
    }
   ],
   "source": [
    "#Importando BD predicciones historicas\n",
    "\n",
    "#df_prediccion_his= pd.read_csv(\"Prediccion_T_BA.csv\",)\n",
    "#df_prediccion_his = df_prediccion_his.rename(columns={\"Unnamed: 0\": \"Fecha\"})\n",
    "df_prediccion_his[\"Fecha\"] = df_prediccion_his[\"Fecha\"].astype( \"datetime64[ns]\")\n",
    "df_prediccion_his = df_prediccion_his.drop(\"Translucidez\", axis=1)\n",
    "#df_prediccion_his.index = pd.DatetimeIndex(df_prediccion_his.index)\n",
    "#df_prediccion_his[\"Translucidez\"] = ts_trans\n",
    "#df_prediccion_his = df_prediccion_his.merge(ts_trans , left_index=True, right_index=True) \n",
    "\n",
    "#df_prediccion_his[\"fecha\"] = df_prediccion_his.index\n",
    "df_prediccion_his = pd.merge(df_prediccion_his, ts_trans, left_on=\"Fecha\", right_index=True)\n",
    "df_prediccion_his_re = df_prediccion_his.rename(columns={\"Translucidez-BA\": \"Translucidez\"})\n",
    "#df_prediccion_his.index = pd.DatetimeIndex(df_prediccion_his.index)\n",
    "df_prediccion_his_re [\"Semana\"]  = df_prediccion_his_re [\"Fecha\"].dt.week\n",
    "df_prediccion_his_re [\"Sem_anticipadas\"] = df_prediccion_his_re [\"Semana\"] - df_prediccion_his_re [\"Semana_Prediccion\"]\n",
    "df_prediccion_his_re .tail(5)"
   ]
  },
  {
   "cell_type": "code",
   "execution_count": 142,
   "metadata": {},
   "outputs": [],
   "source": [
    "# Inicializar las columnas de errores en el DataFrame\n",
    "#df_prediccion_his_re ['mse'] = 0\n",
    "#df_prediccion_his_re ['rmse'] = 0\n",
    "#df_prediccion_his_re ['re'] = 0\n",
    "#df_prediccion_his_re ['corr'] = 0\n",
    "#df_prediccion_his_re ['mae'] = 0\n",
    "# Iterar por cada fila del DataFrame y calcular los errores\n",
    "for i, fila in df_prediccion_his_re .iterrows():\n",
    "    real = fila['Translucidez']\n",
    "    predicho = fila['prediccion']\n",
    "    #from sklearn.metrics import mean_absolute_error\n",
    "    #print (real, predicho,)\n",
    "    mae = np.mean(np.abs(real - predicho ))\n",
    "    \n",
    "    mse = np.square(real - predicho).mean()\n",
    "    rmse = np.sqrt(mse)\n",
    "    if real == 0:\n",
    "        re = 100\n",
    "    else:\n",
    "        re = np.abs((real - predicho) / real) * 100\n",
    "    \n",
    "    #re = np.abs((real - predicho) / real) * 100\n",
    "    #corr = np.corrcoef([real, predicho])[0, 1]\n",
    "    \n",
    "    # Asignar los resultados a las columnas correspondientes en la fila actual\n",
    "    df_prediccion_his_re .at[i, 'mse'] = mse\n",
    "    df_prediccion_his_re .at[i, 'rmse'] = rmse\n",
    "    df_prediccion_his_re .at[i, 're'] = re\n",
    "    df_prediccion_his_re .at[i, 'mae'] = mae\n",
    "    #df_prediccion_his_re .at[i, 'corr'] = corr\n",
    "\n",
    "# Mostrar el DataFrame con las nuevas columnas de errores\n"
   ]
  },
  {
   "cell_type": "code",
   "execution_count": 146,
   "metadata": {},
   "outputs": [
    {
     "data": {
      "image/png": "[encoded data removed]",
      "text/plain": [
       "<Figure size 864x432 with 1 Axes>"
      ]
     },
     "metadata": {
      "needs_background": "light"
     },
     "output_type": "display_data"
    },
    {
     "data": {
      "image/png": "[encoded data removed]",
      "text/plain": [
       "<Figure size 864x432 with 1 Axes>"
      ]
     },
     "metadata": {
      "needs_background": "light"
     },
     "output_type": "display_data"
    },
    {
     "data": {
      "image/png": "[encoded data removed]",
      "text/plain": [
       "<Figure size 864x432 with 1 Axes>"
      ]
     },
     "metadata": {
      "needs_background": "light"
     },
     "output_type": "display_data"
    }
   ],
   "source": [
    "# Graficamos las predicciones\n",
    "\n",
    "df_prediccion_his_re .index = pd.DatetimeIndex(df_prediccion_his_re .Fecha)\n",
    "\n",
    "for i in df_prediccion_his_re [\"Sem_anticipadas\"].unique(): \n",
    "\n",
    "    from matplotlib.pyplot import figure\n",
    "\n",
    "    df_1sem = df_prediccion_his_re .loc [df_prediccion_his_re [\"Sem_anticipadas\"]== i]\n",
    "    ts_sem = pd.Series(df_1sem[\"prediccion\"], df_1sem.index )\n",
    "\n",
    "    fig, ax  = plt.subplots(figsize=(12,6)) \n",
    "\n",
    "    aux = plt.plot(ts_sem .index,ts_sem  .values, label = 'Predicción', color='green')\n",
    "\n",
    "    aux = plt.plot(ts_trans.index[-20:], ts_trans.values[-20:], label = \"Translucidez REAL\", color='blue' )\n",
    "\n",
    "    aux = plt.scatter(ts_sem  .index, ts_sem  .values,color='green')\n",
    "\n",
    "    aux = plt.scatter(ts_trans.index[-20:], ts_trans.values[-20:],  color='blue' )\n",
    "\n",
    "\n",
    "    formato = mdates.DateFormatter(\"%W - %y\")\n",
    "\n",
    "    ax.xaxis.set_major_formatter(formato)\n",
    "    #ax.plot(df_BA_ts_sem _2022.index[df_BA_ts_sem _2022.index > \"01/01/2021\"], df_BA_ts_sem _2022.values[df_BA_ts_sem _2022.index > \"01/01/2021\"], label = \"Trasnslucidez 2021\", linewidth = 2)\n",
    "    ax.legend(loc=\"upper left\")\n",
    "\n",
    "    xticks = pd.date_range(ts_trans.index[-20:].min(),ts_trans .index.max(), freq='W')\n",
    "    ax.set_xticks(xticks)\n",
    "    ax = plt.xlabel(\"Semana\", size = 14)\n",
    "    ax = plt.ylabel(\"% Translucidez\", size = 14)\n",
    "    plt.xticks(rotation=45)\n",
    "    aux = plt.legend(loc='center left', bbox_to_anchor=(1, 0.5))\n",
    "    aux = plt.title(f\"Predicción Translucidez - BA - YTD - Semanas de anticipadas: {i}\", size = 18)\n",
    "    aux = plt.legend(loc=0,)\n",
    "    plt.tight_layout()   \n",
    "    plt.savefig(\"PrediccionYTD\" + str(i) + \".png\")\n",
    "    plt.show()"
   ]
  },
  {
   "cell_type": "code",
   "execution_count": 147,
   "metadata": {},
   "outputs": [
    {
     "data": {
      "image/png": "[encoded data removed]",
      "text/plain": [
       "<Figure size 864x432 with 1 Axes>"
      ]
     },
     "metadata": {
      "needs_background": "light"
     },
     "output_type": "display_data"
    }
   ],
   "source": [
    "# Gráfico de dispersión\n",
    "fig, ax  = plt.subplots(figsize=(12,6)) \n",
    "sns.scatterplot(x=ts_trans.loc[ ts_sem .index[0].date(): ts_sem .index[len( ts_sem )-1].date():], y=ts_sem, s=100)\n",
    "sns.lineplot(x=ts_trans.loc[ ts_sem .index[0].date(): ts_sem .index[len( ts_sem )-1].date():], y=ts_trans.loc[ ts_sem .index[0].date(): ts_sem .index[len( ts_sem )-1].date():], color='black', linestyle='--')\n",
    "sns.lineplot(x=ts_trans.loc[ ts_sem .index[0].date(): ts_sem .index[len( ts_sem )-1].date():], y=ts_sem, color='red')\n",
    "plt.xlabel('Valores reales')\n",
    "plt.ylabel('Valores predichos')\n",
    "plt.title('Gráfico de dispersión de valores reales vs. valores predichos' ,size = 18)\n",
    "plt.show()"
   ]
  },
  {
   "cell_type": "code",
   "execution_count": 148,
   "metadata": {},
   "outputs": [
    {
     "data": {
      "image/png": "[encoded data removed]",
      "text/plain": [
       "<Figure size 864x432 with 1 Axes>"
      ]
     },
     "metadata": {
      "needs_background": "light"
     },
     "output_type": "display_data"
    }
   ],
   "source": [
    "# Graficamos las predicciones\n",
    "\n",
    "\n",
    "from matplotlib.pyplot import figure\n",
    "\n",
    "fig, ax  = plt.subplots(figsize=(12,6)) \n",
    "\n",
    "df_1sem = df_prediccion_his_re.loc [df_prediccion_his_re[\"Sem_anticipadas\"]== 1]\n",
    "\n",
    "df_1sem= df_1sem.dropna()\n",
    "\n",
    "df_2sem = df_prediccion_his_re.loc [df_prediccion_his_re[\"Sem_anticipadas\"]== 2]\n",
    "df_2sem = df_2sem.dropna()\n",
    "\n",
    "df_3sem = df_prediccion_his_re.loc [df_prediccion_his_re[\"Sem_anticipadas\"]== 3]\n",
    "df_3sem = df_3sem.dropna()\n",
    "\n",
    "\n",
    "aux = plt.plot(df_1sem.index ,df_1sem['mae'] .values, label = 'MAE - a 1 Semana', color='green')\n",
    "\n",
    "aux = plt.plot(df_2sem.index ,df_2sem['mae'].values, label = 'MAE - a 2 Semanas', color='red')\n",
    "\n",
    "aux = plt.plot(df_3sem.index ,df_3sem['mae'].values, label = 'MAE - a 3 Semanas', color='black')\n",
    "\n",
    "\n",
    "#aux = plt.plot(ts_trans.index[-20:], ts_trans.values[-20:], label = \"Translucidez REAL\", color='blue' )\n",
    "\n",
    "#aux = plt.scatter(ts_1sem  .index, ts_1sem  .values,color='green')\n",
    "\n",
    "aux =plt.scatter(df_1sem.index ,df_1sem['mae'] .values,  color='green')\n",
    "aux =plt.scatter(df_2sem.index ,df_2sem['mae'] .values,  color='red')\n",
    "aux =plt.scatter(df_3sem.index ,df_3sem['mae'] .values,  color='black')\n",
    "\n",
    "formato = mdates.DateFormatter(\"%W - %y\")\n",
    "\n",
    "ax.xaxis.set_major_formatter(formato)\n",
    "#ax.plot(df_BA_ts_sem _2022.index[df_BA_ts_sem _2022.index > \"01/01/2021\"], df_BA_ts_sem _2022.values[df_BA_ts_sem _2022.index > \"01/01/2021\"], label = \"Trasnslucidez 2021\", linewidth = 2)\n",
    "ax.legend(loc=\"upper left\")\n",
    "plt.ylabel('MAE', size = 14)\n",
    "xticks = pd.date_range(df_1sem.index.min(),df_1sem .index.max(), freq='W')\n",
    "ax.set_xticks(xticks)\n",
    "ax = plt.xlabel(\"Semana\", size = 14)\n",
    "plt.xticks(rotation=45)\n",
    "aux = plt.legend(loc='center left', bbox_to_anchor=(1, 0.5))\n",
    "aux = plt.title(\"Evolución de MAE a lo largo del tiempo\", size = 18)\n",
    "aux = plt.legend(loc=0,)\n",
    "plt.savefig(\"MAE.png\")\n",
    "plt.show()"
   ]
  },
  {
   "cell_type": "code",
   "execution_count": 149,
   "metadata": {},
   "outputs": [],
   "source": [
    "# Errores YTD\n",
    "df_errores = pd.DataFrame()\n",
    "for i in df_prediccion_his_re[\"Sem_anticipadas\"].unique(): \n",
    "    df_1sem = df_prediccion_his_re.loc [df_prediccion_his_re[\"Sem_anticipadas\"]== i]\n",
    "    ts_sem = pd.Series(df_1sem[\"prediccion\"], df_1sem.index )\n",
    "    error = ts_mod.ts_error([ ts_sem ],  ts_trans.loc[ ts_sem .index[0].date(): ts_sem .index[len( ts_sem )-1].date():], [f\"Semana: {i}\" ])\n",
    "    df_error_sem = error.df_errores()\n",
    "    df_errores = df_errores.append(df_error_sem )\n",
    "    "
   ]
  },
  {
   "cell_type": "code",
   "execution_count": 150,
   "metadata": {},
   "outputs": [
    {
     "data": {
      "text/html": [
       "<div>\n",
       "<style scoped>\n",
       "    .dataframe tbody tr th:only-of-type {\n",
       "        vertical-align: middle;\n",
       "    }\n",
       "\n",
       "    .dataframe tbody tr th {\n",
       "        vertical-align: top;\n",
       "    }\n",
       "\n",
       "    .dataframe thead th {\n",
       "        text-align: right;\n",
       "    }\n",
       "</style>\n",
       "<table border=\"1\" class=\"dataframe\">\n",
       "  <thead>\n",
       "    <tr style=\"text-align: right;\">\n",
       "      <th></th>\n",
       "      <th>MAE</th>\n",
       "      <th>MSE</th>\n",
       "      <th>RMSE</th>\n",
       "      <th>RE</th>\n",
       "    </tr>\n",
       "  </thead>\n",
       "  <tbody>\n",
       "    <tr>\n",
       "      <th>Semana: 1.0</th>\n",
       "      <td>0.252023</td>\n",
       "      <td>0.144007</td>\n",
       "      <td>0.379483</td>\n",
       "      <td>2.295584</td>\n",
       "    </tr>\n",
       "    <tr>\n",
       "      <th>Semana: 2.0</th>\n",
       "      <td>0.282138</td>\n",
       "      <td>0.150029</td>\n",
       "      <td>0.387335</td>\n",
       "      <td>2.055909</td>\n",
       "    </tr>\n",
       "    <tr>\n",
       "      <th>Semana: 3.0</th>\n",
       "      <td>0.323734</td>\n",
       "      <td>0.288523</td>\n",
       "      <td>0.537144</td>\n",
       "      <td>2.162434</td>\n",
       "    </tr>\n",
       "  </tbody>\n",
       "</table>\n",
       "</div>"
      ],
      "text/plain": [
       "                  MAE       MSE      RMSE        RE\n",
       "Semana: 1.0  0.252023  0.144007  0.379483  2.295584\n",
       "Semana: 2.0  0.282138  0.150029  0.387335  2.055909\n",
       "Semana: 3.0  0.323734  0.288523  0.537144  2.162434"
      ]
     },
     "execution_count": 150,
     "metadata": {},
     "output_type": "execute_result"
    }
   ],
   "source": [
    "df_errores = df_errores.drop(\"CORR\", axis=1)\n",
    "df_errores "
   ]
  },
  {
   "cell_type": "code",
   "execution_count": 151,
   "metadata": {},
   "outputs": [
    {
     "data": {
      "text/html": [
       "<div>\n",
       "<style scoped>\n",
       "    .dataframe tbody tr th:only-of-type {\n",
       "        vertical-align: middle;\n",
       "    }\n",
       "\n",
       "    .dataframe tbody tr th {\n",
       "        vertical-align: top;\n",
       "    }\n",
       "\n",
       "    .dataframe thead th {\n",
       "        text-align: right;\n",
       "    }\n",
       "</style>\n",
       "<table border=\"1\" class=\"dataframe\">\n",
       "  <thead>\n",
       "    <tr style=\"text-align: right;\">\n",
       "      <th></th>\n",
       "      <th>MAE</th>\n",
       "      <th>MSE</th>\n",
       "      <th>RMSE</th>\n",
       "      <th>RE</th>\n",
       "      <th>Semanas</th>\n",
       "    </tr>\n",
       "  </thead>\n",
       "  <tbody>\n",
       "    <tr>\n",
       "      <th>Semana: 1.0</th>\n",
       "      <td>0.252023</td>\n",
       "      <td>0.144007</td>\n",
       "      <td>0.379483</td>\n",
       "      <td>2.295584</td>\n",
       "      <td>Semana: 1.0</td>\n",
       "    </tr>\n",
       "    <tr>\n",
       "      <th>Semana: 2.0</th>\n",
       "      <td>0.282138</td>\n",
       "      <td>0.150029</td>\n",
       "      <td>0.387335</td>\n",
       "      <td>2.055909</td>\n",
       "      <td>Semana: 2.0</td>\n",
       "    </tr>\n",
       "    <tr>\n",
       "      <th>Semana: 3.0</th>\n",
       "      <td>0.323734</td>\n",
       "      <td>0.288523</td>\n",
       "      <td>0.537144</td>\n",
       "      <td>2.162434</td>\n",
       "      <td>Semana: 3.0</td>\n",
       "    </tr>\n",
       "  </tbody>\n",
       "</table>\n",
       "</div>"
      ],
      "text/plain": [
       "                  MAE       MSE      RMSE        RE      Semanas\n",
       "Semana: 1.0  0.252023  0.144007  0.379483  2.295584  Semana: 1.0\n",
       "Semana: 2.0  0.282138  0.150029  0.387335  2.055909  Semana: 2.0\n",
       "Semana: 3.0  0.323734  0.288523  0.537144  2.162434  Semana: 3.0"
      ]
     },
     "execution_count": 151,
     "metadata": {},
     "output_type": "execute_result"
    }
   ],
   "source": [
    "df_errores[\"Semanas\"] = df_errores.index\n",
    "df_errores"
   ]
  },
  {
   "cell_type": "code",
   "execution_count": 152,
   "metadata": {},
   "outputs": [
    {
     "data": {
      "text/html": [
       "<div>\n",
       "<style scoped>\n",
       "    .dataframe tbody tr th:only-of-type {\n",
       "        vertical-align: middle;\n",
       "    }\n",
       "\n",
       "    .dataframe tbody tr th {\n",
       "        vertical-align: top;\n",
       "    }\n",
       "\n",
       "    .dataframe thead th {\n",
       "        text-align: right;\n",
       "    }\n",
       "</style>\n",
       "<table border=\"1\" class=\"dataframe\">\n",
       "  <thead>\n",
       "    <tr style=\"text-align: right;\">\n",
       "      <th></th>\n",
       "      <th>MAE</th>\n",
       "      <th>MSE</th>\n",
       "      <th>RMSE</th>\n",
       "      <th>RE</th>\n",
       "      <th>Semanas</th>\n",
       "    </tr>\n",
       "  </thead>\n",
       "  <tbody>\n",
       "    <tr>\n",
       "      <th>Semana: 1.0</th>\n",
       "      <td>0.25</td>\n",
       "      <td>0.14</td>\n",
       "      <td>0.38</td>\n",
       "      <td>2.30</td>\n",
       "      <td>Semana: 1.0</td>\n",
       "    </tr>\n",
       "    <tr>\n",
       "      <th>Semana: 2.0</th>\n",
       "      <td>0.28</td>\n",
       "      <td>0.15</td>\n",
       "      <td>0.39</td>\n",
       "      <td>2.06</td>\n",
       "      <td>Semana: 2.0</td>\n",
       "    </tr>\n",
       "    <tr>\n",
       "      <th>Semana: 3.0</th>\n",
       "      <td>0.32</td>\n",
       "      <td>0.29</td>\n",
       "      <td>0.54</td>\n",
       "      <td>2.16</td>\n",
       "      <td>Semana: 3.0</td>\n",
       "    </tr>\n",
       "  </tbody>\n",
       "</table>\n",
       "</div>"
      ],
      "text/plain": [
       "              MAE   MSE  RMSE    RE      Semanas\n",
       "Semana: 1.0  0.25  0.14  0.38  2.30  Semana: 1.0\n",
       "Semana: 2.0  0.28  0.15  0.39  2.06  Semana: 2.0\n",
       "Semana: 3.0  0.32  0.29  0.54  2.16  Semana: 3.0"
      ]
     },
     "execution_count": 152,
     "metadata": {},
     "output_type": "execute_result"
    }
   ],
   "source": [
    "df_errores = df_errores.round(decimals=2)\n",
    "#df_errores.insert(0, \"Semanas anticipadas\", df.pop('Semanas anticipadas'))\n",
    "df_pdf_error = df_errores \n",
    "df_pdf_error"
   ]
  },
  {
   "cell_type": "code",
   "execution_count": 155,
   "metadata": {},
   "outputs": [],
   "source": [
    "df_errores_ulti_Sem = df_prediccion_his_re.loc[df_prediccion_his_re[\"Semana\"] == df_prediccion_his_re[\"Semana\"].max()][[\"Sem_anticipadas\", \"Semana\",\"mae\", \"mse\", \"rmse\", \"re\"]]\n",
    "df_errores_ulti_Sem = df_errores_ulti_Sem.rename( columns={\"mae\" : \"MAE\",\"mse\" : \"MSE\", \"rmse\" : \"RMSE\"\t, \"re\" : \"RE\" , \"Sem_anticipadas\": \"Semanas anticipadas de predicción\"})\n",
    "df_errores_ulti_Sem = df_errores_ulti_Sem.reset_index(drop=True)\n",
    "df_errores_ulti_Sem.index = df_errores_ulti_Sem[\"Semanas anticipadas de predicción\"]\n",
    "df_errores_ulti_Sem = df_errores_ulti_Sem.drop(\"Semanas anticipadas de predicción\", axis=1)\n",
    "#df_errores_ulti_Sem[\"Semana\"] "
   ]
  },
  {
   "cell_type": "code",
   "execution_count": 156,
   "metadata": {},
   "outputs": [
    {
     "data": {
      "text/html": [
       "<div>\n",
       "<style scoped>\n",
       "    .dataframe tbody tr th:only-of-type {\n",
       "        vertical-align: middle;\n",
       "    }\n",
       "\n",
       "    .dataframe tbody tr th {\n",
       "        vertical-align: top;\n",
       "    }\n",
       "\n",
       "    .dataframe thead th {\n",
       "        text-align: right;\n",
       "    }\n",
       "</style>\n",
       "<table border=\"1\" class=\"dataframe\">\n",
       "  <thead>\n",
       "    <tr style=\"text-align: right;\">\n",
       "      <th></th>\n",
       "      <th>Semana</th>\n",
       "      <th>MAE</th>\n",
       "      <th>MSE</th>\n",
       "      <th>RMSE</th>\n",
       "      <th>RE</th>\n",
       "    </tr>\n",
       "    <tr>\n",
       "      <th>Semanas anticipadas de predicción</th>\n",
       "      <th></th>\n",
       "      <th></th>\n",
       "      <th></th>\n",
       "      <th></th>\n",
       "      <th></th>\n",
       "    </tr>\n",
       "  </thead>\n",
       "  <tbody>\n",
       "    <tr>\n",
       "      <th>1.0</th>\n",
       "      <td>17</td>\n",
       "      <td>0.62</td>\n",
       "      <td>0.39</td>\n",
       "      <td>0.62</td>\n",
       "      <td>100.0</td>\n",
       "    </tr>\n",
       "  </tbody>\n",
       "</table>\n",
       "</div>"
      ],
      "text/plain": [
       "                                   Semana   MAE   MSE  RMSE     RE\n",
       "Semanas anticipadas de predicción                                 \n",
       "1.0                                    17  0.62  0.39  0.62  100.0"
      ]
     },
     "execution_count": 156,
     "metadata": {},
     "output_type": "execute_result"
    }
   ],
   "source": [
    "df_errores_ulti_Sem = df_errores_ulti_Sem.round(2)\n",
    "df_errores_ulti_Sem"
   ]
  },
  {
   "attachments": {},
   "cell_type": "markdown",
   "metadata": {},
   "source": [
    "## Respaldo de resultados"
   ]
  },
  {
   "cell_type": "code",
   "execution_count": 157,
   "metadata": {},
   "outputs": [
    {
     "ename": "KeyError",
     "evalue": "\"['fechas'] not found in axis\"",
     "output_type": "error",
     "traceback": [
      "\u001b[1;31m---------------------------------------------------------------------------\u001b[0m",
      "\u001b[1;31mKeyError\u001b[0m                                  Traceback (most recent call last)",
      "\u001b[1;32m<ipython-input-157-906902d267c2>\u001b[0m in \u001b[0;36m<module>\u001b[1;34m\u001b[0m\n\u001b[1;32m----> 1\u001b[1;33m \u001b[0mdf_pred\u001b[0m \u001b[1;33m=\u001b[0m \u001b[0mdf_pred\u001b[0m\u001b[1;33m.\u001b[0m\u001b[0mdrop\u001b[0m\u001b[1;33m(\u001b[0m\u001b[1;34m\"fechas\"\u001b[0m\u001b[1;33m,\u001b[0m \u001b[0maxis\u001b[0m \u001b[1;33m=\u001b[0m \u001b[1;36m1\u001b[0m\u001b[1;33m)\u001b[0m\u001b[1;33m\u001b[0m\u001b[1;33m\u001b[0m\u001b[0m\n\u001b[0m",
      "\u001b[1;32mc:\\Users\\Administrador\\AppData\\Local\\ESRI\\conda\\envs\\arcgispro-py3-clone\\lib\\site-packages\\pandas\\util\\_decorators.py\u001b[0m in \u001b[0;36mwrapper\u001b[1;34m(*args, **kwargs)\u001b[0m\n\u001b[0;32m    309\u001b[0m                     \u001b[0mstacklevel\u001b[0m\u001b[1;33m=\u001b[0m\u001b[0mstacklevel\u001b[0m\u001b[1;33m,\u001b[0m\u001b[1;33m\u001b[0m\u001b[1;33m\u001b[0m\u001b[0m\n\u001b[0;32m    310\u001b[0m                 )\n\u001b[1;32m--> 311\u001b[1;33m             \u001b[1;32mreturn\u001b[0m \u001b[0mfunc\u001b[0m\u001b[1;33m(\u001b[0m\u001b[1;33m*\u001b[0m\u001b[0margs\u001b[0m\u001b[1;33m,\u001b[0m \u001b[1;33m**\u001b[0m\u001b[0mkwargs\u001b[0m\u001b[1;33m)\u001b[0m\u001b[1;33m\u001b[0m\u001b[1;33m\u001b[0m\u001b[0m\n\u001b[0m\u001b[0;32m    312\u001b[0m \u001b[1;33m\u001b[0m\u001b[0m\n\u001b[0;32m    313\u001b[0m         \u001b[1;32mreturn\u001b[0m \u001b[0mwrapper\u001b[0m\u001b[1;33m\u001b[0m\u001b[1;33m\u001b[0m\u001b[0m\n",
      "\u001b[1;32mc:\\Users\\Administrador\\AppData\\Local\\ESRI\\conda\\envs\\arcgispro-py3-clone\\lib\\site-packages\\pandas\\core\\frame.py\u001b[0m in \u001b[0;36mdrop\u001b[1;34m(self, labels, axis, index, columns, level, inplace, errors)\u001b[0m\n\u001b[0;32m   4904\u001b[0m                 \u001b[0mweight\u001b[0m  \u001b[1;36m1.0\u001b[0m     \u001b[1;36m0.8\u001b[0m\u001b[1;33m\u001b[0m\u001b[1;33m\u001b[0m\u001b[0m\n\u001b[0;32m   4905\u001b[0m         \"\"\"\n\u001b[1;32m-> 4906\u001b[1;33m         return super().drop(\n\u001b[0m\u001b[0;32m   4907\u001b[0m             \u001b[0mlabels\u001b[0m\u001b[1;33m=\u001b[0m\u001b[0mlabels\u001b[0m\u001b[1;33m,\u001b[0m\u001b[1;33m\u001b[0m\u001b[1;33m\u001b[0m\u001b[0m\n\u001b[0;32m   4908\u001b[0m             \u001b[0maxis\u001b[0m\u001b[1;33m=\u001b[0m\u001b[0maxis\u001b[0m\u001b[1;33m,\u001b[0m\u001b[1;33m\u001b[0m\u001b[1;33m\u001b[0m\u001b[0m\n",
      "\u001b[1;32mc:\\Users\\Administrador\\AppData\\Local\\ESRI\\conda\\envs\\arcgispro-py3-clone\\lib\\site-packages\\pandas\\core\\generic.py\u001b[0m in \u001b[0;36mdrop\u001b[1;34m(self, labels, axis, index, columns, level, inplace, errors)\u001b[0m\n\u001b[0;32m   4148\u001b[0m         \u001b[1;32mfor\u001b[0m \u001b[0maxis\u001b[0m\u001b[1;33m,\u001b[0m \u001b[0mlabels\u001b[0m \u001b[1;32min\u001b[0m \u001b[0maxes\u001b[0m\u001b[1;33m.\u001b[0m\u001b[0mitems\u001b[0m\u001b[1;33m(\u001b[0m\u001b[1;33m)\u001b[0m\u001b[1;33m:\u001b[0m\u001b[1;33m\u001b[0m\u001b[1;33m\u001b[0m\u001b[0m\n\u001b[0;32m   4149\u001b[0m             \u001b[1;32mif\u001b[0m \u001b[0mlabels\u001b[0m \u001b[1;32mis\u001b[0m \u001b[1;32mnot\u001b[0m \u001b[1;32mNone\u001b[0m\u001b[1;33m:\u001b[0m\u001b[1;33m\u001b[0m\u001b[1;33m\u001b[0m\u001b[0m\n\u001b[1;32m-> 4150\u001b[1;33m                 \u001b[0mobj\u001b[0m \u001b[1;33m=\u001b[0m \u001b[0mobj\u001b[0m\u001b[1;33m.\u001b[0m\u001b[0m_drop_axis\u001b[0m\u001b[1;33m(\u001b[0m\u001b[0mlabels\u001b[0m\u001b[1;33m,\u001b[0m \u001b[0maxis\u001b[0m\u001b[1;33m,\u001b[0m \u001b[0mlevel\u001b[0m\u001b[1;33m=\u001b[0m\u001b[0mlevel\u001b[0m\u001b[1;33m,\u001b[0m \u001b[0merrors\u001b[0m\u001b[1;33m=\u001b[0m\u001b[0merrors\u001b[0m\u001b[1;33m)\u001b[0m\u001b[1;33m\u001b[0m\u001b[1;33m\u001b[0m\u001b[0m\n\u001b[0m\u001b[0;32m   4151\u001b[0m \u001b[1;33m\u001b[0m\u001b[0m\n\u001b[0;32m   4152\u001b[0m         \u001b[1;32mif\u001b[0m \u001b[0minplace\u001b[0m\u001b[1;33m:\u001b[0m\u001b[1;33m\u001b[0m\u001b[1;33m\u001b[0m\u001b[0m\n",
      "\u001b[1;32mc:\\Users\\Administrador\\AppData\\Local\\ESRI\\conda\\envs\\arcgispro-py3-clone\\lib\\site-packages\\pandas\\core\\generic.py\u001b[0m in \u001b[0;36m_drop_axis\u001b[1;34m(self, labels, axis, level, errors)\u001b[0m\n\u001b[0;32m   4183\u001b[0m                 \u001b[0mnew_axis\u001b[0m \u001b[1;33m=\u001b[0m \u001b[0maxis\u001b[0m\u001b[1;33m.\u001b[0m\u001b[0mdrop\u001b[0m\u001b[1;33m(\u001b[0m\u001b[0mlabels\u001b[0m\u001b[1;33m,\u001b[0m \u001b[0mlevel\u001b[0m\u001b[1;33m=\u001b[0m\u001b[0mlevel\u001b[0m\u001b[1;33m,\u001b[0m \u001b[0merrors\u001b[0m\u001b[1;33m=\u001b[0m\u001b[0merrors\u001b[0m\u001b[1;33m)\u001b[0m\u001b[1;33m\u001b[0m\u001b[1;33m\u001b[0m\u001b[0m\n\u001b[0;32m   4184\u001b[0m             \u001b[1;32melse\u001b[0m\u001b[1;33m:\u001b[0m\u001b[1;33m\u001b[0m\u001b[1;33m\u001b[0m\u001b[0m\n\u001b[1;32m-> 4185\u001b[1;33m                 \u001b[0mnew_axis\u001b[0m \u001b[1;33m=\u001b[0m \u001b[0maxis\u001b[0m\u001b[1;33m.\u001b[0m\u001b[0mdrop\u001b[0m\u001b[1;33m(\u001b[0m\u001b[0mlabels\u001b[0m\u001b[1;33m,\u001b[0m \u001b[0merrors\u001b[0m\u001b[1;33m=\u001b[0m\u001b[0merrors\u001b[0m\u001b[1;33m)\u001b[0m\u001b[1;33m\u001b[0m\u001b[1;33m\u001b[0m\u001b[0m\n\u001b[0m\u001b[0;32m   4186\u001b[0m             \u001b[0mresult\u001b[0m \u001b[1;33m=\u001b[0m \u001b[0mself\u001b[0m\u001b[1;33m.\u001b[0m\u001b[0mreindex\u001b[0m\u001b[1;33m(\u001b[0m\u001b[1;33m**\u001b[0m\u001b[1;33m{\u001b[0m\u001b[0maxis_name\u001b[0m\u001b[1;33m:\u001b[0m \u001b[0mnew_axis\u001b[0m\u001b[1;33m}\u001b[0m\u001b[1;33m)\u001b[0m\u001b[1;33m\u001b[0m\u001b[1;33m\u001b[0m\u001b[0m\n\u001b[0;32m   4187\u001b[0m \u001b[1;33m\u001b[0m\u001b[0m\n",
      "\u001b[1;32mc:\\Users\\Administrador\\AppData\\Local\\ESRI\\conda\\envs\\arcgispro-py3-clone\\lib\\site-packages\\pandas\\core\\indexes\\base.py\u001b[0m in \u001b[0;36mdrop\u001b[1;34m(self, labels, errors)\u001b[0m\n\u001b[0;32m   6015\u001b[0m         \u001b[1;32mif\u001b[0m \u001b[0mmask\u001b[0m\u001b[1;33m.\u001b[0m\u001b[0many\u001b[0m\u001b[1;33m(\u001b[0m\u001b[1;33m)\u001b[0m\u001b[1;33m:\u001b[0m\u001b[1;33m\u001b[0m\u001b[1;33m\u001b[0m\u001b[0m\n\u001b[0;32m   6016\u001b[0m             \u001b[1;32mif\u001b[0m \u001b[0merrors\u001b[0m \u001b[1;33m!=\u001b[0m \u001b[1;34m\"ignore\"\u001b[0m\u001b[1;33m:\u001b[0m\u001b[1;33m\u001b[0m\u001b[1;33m\u001b[0m\u001b[0m\n\u001b[1;32m-> 6017\u001b[1;33m                 \u001b[1;32mraise\u001b[0m \u001b[0mKeyError\u001b[0m\u001b[1;33m(\u001b[0m\u001b[1;34mf\"{labels[mask]} not found in axis\"\u001b[0m\u001b[1;33m)\u001b[0m\u001b[1;33m\u001b[0m\u001b[1;33m\u001b[0m\u001b[0m\n\u001b[0m\u001b[0;32m   6018\u001b[0m             \u001b[0mindexer\u001b[0m \u001b[1;33m=\u001b[0m \u001b[0mindexer\u001b[0m\u001b[1;33m[\u001b[0m\u001b[1;33m~\u001b[0m\u001b[0mmask\u001b[0m\u001b[1;33m]\u001b[0m\u001b[1;33m\u001b[0m\u001b[1;33m\u001b[0m\u001b[0m\n\u001b[0;32m   6019\u001b[0m         \u001b[1;32mreturn\u001b[0m \u001b[0mself\u001b[0m\u001b[1;33m.\u001b[0m\u001b[0mdelete\u001b[0m\u001b[1;33m(\u001b[0m\u001b[0mindexer\u001b[0m\u001b[1;33m)\u001b[0m\u001b[1;33m\u001b[0m\u001b[1;33m\u001b[0m\u001b[0m\n",
      "\u001b[1;31mKeyError\u001b[0m: \"['fechas'] not found in axis\""
     ]
    }
   ],
   "source": [
    "df_pred = df_pred.drop(\"fechas\", axis = 1)\n"
   ]
  },
  {
   "cell_type": "code",
   "execution_count": 110,
   "metadata": {},
   "outputs": [],
   "source": [
    "df_prediccion_his= df_prediccion_his.append (df_pred)"
   ]
  },
  {
   "cell_type": "code",
   "execution_count": 111,
   "metadata": {},
   "outputs": [],
   "source": [
    "df_prediccion_his.to_csv(\"Prediccion_T_BA.csv\")"
   ]
  },
  {
   "attachments": {},
   "cell_type": "markdown",
   "metadata": {},
   "source": [
    "## Ceración de PDF"
   ]
  },
  {
   "cell_type": "code",
   "execution_count": 173,
   "metadata": {},
   "outputs": [],
   "source": [
    "from fpdf import FPDF\n",
    "\n",
    "def create_pdf_with_text(text,filename):\n",
    "    # Create a new PDF object\n",
    "    pdf = FPDF()\n",
    "    # Add a page to the PDF\n",
    "    pdf.add_page()\n",
    "    # Set the font and font size\n",
    "    pdf.set_font('Arial', '', 12)\n",
    "    # Insert the text into the PDF\n",
    "    pdf.multi_cell(0, 10, text)\n",
    "    # Save the PDF file\n",
    "    pdf.output(filename, 'F')\n"
   ]
  },
  {
   "cell_type": "code",
   "execution_count": 185,
   "metadata": {},
   "outputs": [
    {
     "data": {
      "text/plain": [
       "''"
      ]
     },
     "execution_count": 185,
     "metadata": {},
     "output_type": "execute_result"
    }
   ],
   "source": [
    "from fpdf import FPDF\n",
    "from PIL import Image\n",
    "import glob\n",
    "import os\n",
    "\n",
    "# 1. Set up the PDF doc basics\n",
    "pdf = FPDF()\n",
    "pdf.add_page()\n",
    "pdf.set_font('Arial', 'B', 20 )\n",
    "\n",
    "# 2. Layout the PDF doc contents\n",
    "## Title\n",
    "#pdf.multi_cell(45, 10, 'Reporte Semanal de Picudo ' + \"\\nFecha de Creación: \" +  str(datetime.datetime.now().strftime(\"%d-%m-%Y\")))\n",
    "pdf.cell(40, 10, 'Predicción Semanal de Translucidez ' + str(datetime.now().strftime(\"%d-%m-%Y\")))\n",
    "pdf.ln(20)\n",
    "pdf.image(\"sf.png\", w=30, h=25, x=175, y=30)\n",
    "pdf.image(\"dm.png\", w=30, h=25,x=10, y=30)\n",
    "\n",
    "## Line breaks\n",
    "pdf.ln(20)\n",
    "pdf.set_font('Arial', 'B', 18 )\n",
    "pdf.cell(40, 10, 'Semana ' +str(datetime.now().isocalendar().week-1))\n",
    "pdf.ln(20)\n",
    "\n",
    "\n",
    "#Agregando emcabezado de reporte\n",
    "pdf.set_font('Arial', 'B', 16 )\n",
    "pdf.cell(40, 10, 'Semanas de predicción - Desde : ' + str(ts_pred.index.min().date().isocalendar().week) + \" - Hasta: \" + str(ts_pred.index.max().date().isocalendar().week ))\n",
    "pdf.ln(10)\n",
    "pdf.set_font('Arial', 'B', 12 )\n",
    "pdf.cell(40, 10, \"Gráfico de Predicción a 3 semanas\")\n",
    "pdf.ln(10)\n",
    "\n",
    "#imageFile = str(\"Prediccion.png\" )\n",
    "pdf.image(\"Prediccion.png\", w=160, h=80) \n",
    "pdf.ln(10) \n",
    "output_df_to_pdf(pdf, df_pred_pdf)\n",
    "pdf.ln(10) \n",
    "pdf.set_font('Arial', 'B', 12 )\n",
    "pdf.cell(40, 10, \"Error de última semana\")\n",
    "pdf.ln(10)\n",
    "output_df_to_pdf(pdf,df_errores_ulti_Sem)\n",
    "\n",
    "#over = Image.open(imageFile)\n",
    "#width, height = cover.size\n",
    "# convert pixel in mm with 1px=0.264583 mm\n",
    "#width, height = float(width * 0.264583), float(height * 0.264583)\n",
    "# given we are working with A4 format size \n",
    "#pdf_size = {'P': {'w': 210, 'h': 297}, 'L': {'w': 297, 'h': 210}}\n",
    "# get page orientation from image size \n",
    "#orientation = 'P' if width < height else 'L'\n",
    "#  make sure image size is not greater than the pdf format size\n",
    "#width = width if width < pdf_size[orientation]['w'] else pdf_size[orientation]['w']\n",
    "#height = height if height < pdf_size[orientation]['h'] else pdf_size[orientation]['h']\n",
    "#pdf.add_page(orientation=orientation)\n",
    "#pdf.image(imageFile, 0, 0, width, height) \n",
    "pdf.add_page()    \n",
    "pdf.set_font('Arial', 'B', 16 )\n",
    "pdf.cell(40, 10, \"Comparativo de Real vrs Predicción\")\n",
    "pdf.ln(10)\n",
    "pdf.set_font('Arial', '', 10)\n",
    "text = \"Gráfico comparativo 1,2 y 3 semanas de anticipación\"\n",
    "pdf.multi_cell(0, 10, text)\n",
    "pdf.ln(20)\n",
    "pdf.set_font('Arial', 'B', 12 )\n",
    "pdf.image(\"PrediccionYTD1.png\", w=160, h=80)  \n",
    "pdf.ln(20)\n",
    "pdf.image(\"PrediccionYTD2.png\", w=160, h=80)  \n",
    "pdf.ln(20)\n",
    "pdf.image(\"PrediccionYTD3.png\", w=160, h=80)  \n",
    "pdf.ln(20)\n",
    "pdf.set_font('Arial', 'B', 18 )\n",
    "pdf.cell(40, 10, \"Error YTD\")\n",
    "pdf.ln(20)\n",
    "output_df_to_pdf(pdf, df_pdf_error)\n",
    "pdf.ln(20)\n",
    "pdf.image(\"MAE.png\", w=160, h=80)  \n",
    "pdf.ln(20)\n",
    "#pdf.add_page()\n",
    "pdf.set_font('Arial', 'B', 18 )\n",
    "pdf.cell(40, 10, \"Axeno\")\n",
    "pdf.ln(20)\n",
    "pdf.set_font('Arial', 'B', 12 )\n",
    "pdf.cell(20, 10, \"Error Absoluto Medio (MAE) \")\n",
    "pdf.ln(10)\n",
    "pdf.set_font('Arial', '', 10)\n",
    "text = \"Error Absoluto Medio (MAE, por sus siglas en inglés) es una métrica comúnmente utilizada para evaluar la precisión de las predicciones de un modelo de aprendizaje automático. Es una medida de la diferencia promedio absoluta entre los valores predichos y los valores reales.\"\n",
    "# Insert the text into the PDF\n",
    "pdf.multi_cell(0, 10, text)\n",
    "pdf.ln(20)\n",
    "pdf.set_font('Arial', 'B', 12 )\n",
    "pdf.cell(20, 10, \"Mean Squared Error (MSE)\")\n",
    "pdf.set_font('Arial', '', 10)\n",
    "pdf.ln(10)\n",
    "text = \"Es el error cuadrático medio, que mide la diferencia entre los valores reales y los predichos al cuadrado, y se promedia para obtener un valor único. Cuanto menor sea el MSE, mejor será el modelo.\"\n",
    "pdf.multi_cell(0, 10, text)\n",
    "pdf.set_font('Arial', 'B', 12 )\n",
    "pdf.ln(20)\n",
    "pdf.cell(20, 10, \"Root Mean Squared Error (RMSE) \")\n",
    "pdf.ln(10)\n",
    "pdf.set_font('Arial', '', 10)\n",
    "text =\"Es la raíz cuadrada del MSE, que representa la desviación estándar de los errores entre los valores reales y los predichos. Es una medida de la precisión del modelo y cuanto menor sea el RMSE, mejor será el modelo.\"\n",
    "pdf.multi_cell(0, 10, text)\n",
    "pdf.ln(20)\n",
    "pdf.set_font('Arial', 'B', 12 )\n",
    "pdf.cell(20, 10, \"Relative Error (RE):\")\n",
    "pdf.ln(10)\n",
    "pdf.set_font('Arial', '', 10)\n",
    "text = \"Es una medida de la precisión relativa del modelo, que se expresa en porcentaje y se calcula como el error absoluto dividido por el valor real. Se utiliza para comparar el rendimiento del modelo en diferentes escalas y puede ser útil en aplicaciones donde el error absoluto es menos importante que el error relativo.\"\n",
    "pdf.multi_cell(0, 10, text)\n",
    "\n",
    "#create_pdf_with_text(text,'Reporte Semana ' + str(ts_pred.index.min().date().isocalendar().week)+'.pdf')\n",
    "pdf.output('Reporte'+str('Semana ' + str(ts_pred.index.min().date().isocalendar().week))+'.pdf', 'F')"
   ]
  }
 ],
 "metadata": {
  "kernelspec": {
   "display_name": "Python 3.9.11",
   "language": "python",
   "name": "python3"
  },
  "language_info": {
   "codemirror_mode": {
    "name": "ipython",
    "version": 3
   },
   "file_extension": ".py",
   "mimetype": "text/x-python",
   "name": "python",
   "nbconvert_exporter": "python",
   "pygments_lexer": "ipython3",
   "version": "3.9.11"
  },
  "orig_nbformat": 4,
  "vscode": {
   "interpreter": {
    "hash": "00c4dcb5c3890686d237279f31a5618db0dafde07ce6dc3e9d5d38a3c7a698d3"
   }
  }
 },
 "nbformat": 4,
 "nbformat_minor": 2
}
